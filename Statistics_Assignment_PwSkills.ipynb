{
  "nbformat": 4,
  "nbformat_minor": 0,
  "metadata": {
    "colab": {
      "provenance": []
    },
    "kernelspec": {
      "name": "python3",
      "display_name": "Python 3"
    },
    "language_info": {
      "name": "python"
    }
  },
  "cells": [
    {
      "cell_type": "code",
      "execution_count": 1,
      "metadata": {
        "id": "mL4n2JBRzG1b"
      },
      "outputs": [],
      "source": [
        "                                               #STATISTICS ASSIGNMENT"
      ]
    },
    {
      "cell_type": "code",
      "source": [
        "import numpy as np\n",
        "import pandas as pd\n",
        "import matplotlib.pyplot as plt\n",
        "import seaborn as sns\n",
        "import scipy.stats as stats\n",
        "import warnings\n",
        "warnings.filterwarnings('ignore')\n",
        "import math\n",
        "import statistics as st"
      ],
      "metadata": {
        "id": "0IDLA5kf_3yB"
      },
      "execution_count": 2,
      "outputs": []
    },
    {
      "cell_type": "code",
      "source": [
        "'''\n",
        "A) Generate a list of 100 integers containing values between 90 to 130 and store it in the variable `int_list`.\n",
        "'''"
      ],
      "metadata": {
        "colab": {
          "base_uri": "https://localhost:8080/",
          "height": 35
        },
        "id": "cLIoq4ME_VvV",
        "outputId": "29a5ddde-9798-4152-eadc-d6dd6a9a3e0b"
      },
      "execution_count": 3,
      "outputs": [
        {
          "output_type": "execute_result",
          "data": {
            "text/plain": [
              "'\\nA) Generate a list of 100 integers containing values between 90 to 130 and store it in the variable `int_list`.\\n'"
            ],
            "application/vnd.google.colaboratory.intrinsic+json": {
              "type": "string"
            }
          },
          "metadata": {},
          "execution_count": 3
        }
      ]
    },
    {
      "cell_type": "code",
      "source": [
        "int_list = np.random.randint(90,130,100)\n",
        "int_list"
      ],
      "metadata": {
        "colab": {
          "base_uri": "https://localhost:8080/"
        },
        "id": "-KvUQaSt_YtS",
        "outputId": "ef486114-619e-404b-a23f-110e73fb7586"
      },
      "execution_count": 4,
      "outputs": [
        {
          "output_type": "execute_result",
          "data": {
            "text/plain": [
              "array([115, 108, 125,  98,  91,  90, 123, 108, 125, 116,  96, 124, 106,\n",
              "        97, 102, 129, 104,  96,  92, 115, 126, 106, 108,  95, 129,  97,\n",
              "        95, 125, 100,  99, 104, 120, 106, 105, 127, 125, 127, 122, 110,\n",
              "        98, 100, 126, 127, 113, 129, 124, 100, 110, 115, 111, 117,  90,\n",
              "       120, 109,  95, 110, 108, 129, 115, 113, 111, 112, 105, 113, 127,\n",
              "       128, 124, 109, 123, 129, 110, 112, 111, 123, 104, 129, 129, 114,\n",
              "       103, 106, 128, 124, 121, 113, 126, 100,  98, 120, 119,  94,  96,\n",
              "       127, 104, 118, 116, 116,  93, 102, 112,  94])"
            ]
          },
          "metadata": {},
          "execution_count": 4
        }
      ]
    },
    {
      "cell_type": "code",
      "source": [
        "'''\n",
        "Ai) a) Write a Python function to calculate the mean of a given list of numbers.\n",
        "'''\n",
        "mean = 0\n",
        "for i in int_list:\n",
        "    mean += i\n",
        "mean = mean/len(int_list)\n",
        "mean"
      ],
      "metadata": {
        "colab": {
          "base_uri": "https://localhost:8080/"
        },
        "id": "4WAoFQWt_zhu",
        "outputId": "bd364a58-d44d-4c3a-80c1-1e44ff87b506"
      },
      "execution_count": 5,
      "outputs": [
        {
          "output_type": "execute_result",
          "data": {
            "text/plain": [
              "111.88"
            ]
          },
          "metadata": {},
          "execution_count": 5
        }
      ]
    },
    {
      "cell_type": "code",
      "source": [
        "'''\n",
        "Ai) b) Write a Python function to calculate the median of a given list of numbers.\n",
        "'''\n",
        "MEDIAN = st.median(int_list)\n",
        "MEDIAN"
      ],
      "metadata": {
        "colab": {
          "base_uri": "https://localhost:8080/"
        },
        "id": "ShiEYAlqAj6I",
        "outputId": "5ee226dd-4105-4fb1-942d-3a112a94de6a"
      },
      "execution_count": 6,
      "outputs": [
        {
          "output_type": "execute_result",
          "data": {
            "text/plain": [
              "112.0"
            ]
          },
          "metadata": {},
          "execution_count": 6
        }
      ]
    },
    {
      "cell_type": "code",
      "source": [
        "'''\n",
        "Aii) Develop a program to compute the mode of a list of integers.\n",
        "'''\n",
        "mode = stats.mode(int_list)\n",
        "mode"
      ],
      "metadata": {
        "colab": {
          "base_uri": "https://localhost:8080/"
        },
        "id": "kUtxCvSfBKk3",
        "outputId": "4304c32c-3659-42d7-ad9e-0c310f6653cf"
      },
      "execution_count": 7,
      "outputs": [
        {
          "output_type": "execute_result",
          "data": {
            "text/plain": [
              "ModeResult(mode=129, count=7)"
            ]
          },
          "metadata": {},
          "execution_count": 7
        }
      ]
    },
    {
      "cell_type": "code",
      "source": [
        "'''\n",
        "Aiii) Implement a function to calculate the weighted mean of a list of values and their corresponding weights.\n",
        "'''\n",
        "weight = np.ones(len(int_list))/len(int_list)\n",
        "weight_avg = np.average(int_list,weights=weight)\n",
        "weight_avg"
      ],
      "metadata": {
        "colab": {
          "base_uri": "https://localhost:8080/"
        },
        "id": "WwlR5TySBxks",
        "outputId": "cd3f76c7-1d2d-4b3c-b970-20b8be809e1a"
      },
      "execution_count": 8,
      "outputs": [
        {
          "output_type": "execute_result",
          "data": {
            "text/plain": [
              "111.88000000000002"
            ]
          },
          "metadata": {},
          "execution_count": 8
        }
      ]
    },
    {
      "cell_type": "code",
      "source": [
        "'''\n",
        "Aiv) Write a Python function to find the geometric mean of a list of positive numbers.\n",
        "'''\n",
        "geometric_mean = stats.gmean(int_list)\n",
        "geometric_mean"
      ],
      "metadata": {
        "colab": {
          "base_uri": "https://localhost:8080/"
        },
        "id": "PQ9XW5r2H1oM",
        "outputId": "77db28bd-255c-4511-f1d1-b5d46f908b2c"
      },
      "execution_count": 9,
      "outputs": [
        {
          "output_type": "execute_result",
          "data": {
            "text/plain": [
              "111.26489706749241"
            ]
          },
          "metadata": {},
          "execution_count": 9
        }
      ]
    },
    {
      "cell_type": "code",
      "source": [
        "'''\n",
        "Av) Create a program to calculate the harmonic mean of a list of values\n",
        "'''\n",
        "harmonic_mean = stats.hmean(int_list)\n",
        "harmonic_mean"
      ],
      "metadata": {
        "colab": {
          "base_uri": "https://localhost:8080/"
        },
        "id": "AP8eRMqzImYz",
        "outputId": "9827716b-acd1-47cf-c630-621dd853cf16"
      },
      "execution_count": 10,
      "outputs": [
        {
          "output_type": "execute_result",
          "data": {
            "text/plain": [
              "110.64248948581839"
            ]
          },
          "metadata": {},
          "execution_count": 10
        }
      ]
    },
    {
      "cell_type": "code",
      "source": [
        "'''\n",
        "Avi) Build a function to determine the midrange of a list of numbers (average of the minimum and maximum).\n",
        "\n",
        "'''\n",
        "midrange = (min(int_list) + max(int_list))/2\n",
        "midrange"
      ],
      "metadata": {
        "colab": {
          "base_uri": "https://localhost:8080/"
        },
        "id": "GeSd6pHTI0vW",
        "outputId": "648c153e-667f-4aec-ab65-c366d2b32728"
      },
      "execution_count": 11,
      "outputs": [
        {
          "output_type": "execute_result",
          "data": {
            "text/plain": [
              "109.5"
            ]
          },
          "metadata": {},
          "execution_count": 11
        }
      ]
    },
    {
      "cell_type": "code",
      "source": [
        "'''\n",
        "Avii)  Implement a Python program to find the trimmed mean of a list, excluding a certain percentage of\n",
        "outliers\n",
        "'''\n",
        "trimmed_mean = stats.trim_mean(int_list,0.1)\n",
        "trimmed_mean"
      ],
      "metadata": {
        "colab": {
          "base_uri": "https://localhost:8080/"
        },
        "id": "ct6_jyIFJHjj",
        "outputId": "08592bfe-a71f-4680-b607-4c7b78042d97"
      },
      "execution_count": 12,
      "outputs": [
        {
          "output_type": "execute_result",
          "data": {
            "text/plain": [
              "112.1625"
            ]
          },
          "metadata": {},
          "execution_count": 12
        }
      ]
    },
    {
      "cell_type": "code",
      "source": [
        "'''\n",
        "B) Generate a list of 500 integers containing values between 200 to 300 and store it in the variable `int_list2`\n",
        "'''"
      ],
      "metadata": {
        "colab": {
          "base_uri": "https://localhost:8080/",
          "height": 35
        },
        "id": "4z9hb-V3JTBY",
        "outputId": "198ed5d6-7cc3-4a75-ca1e-7153ccd4e5e5"
      },
      "execution_count": 13,
      "outputs": [
        {
          "output_type": "execute_result",
          "data": {
            "text/plain": [
              "'\\nB) Generate a list of 500 integers containing values between 200 to 300 and store it in the variable `int_list2`\\n'"
            ],
            "application/vnd.google.colaboratory.intrinsic+json": {
              "type": "string"
            }
          },
          "metadata": {},
          "execution_count": 13
        }
      ]
    },
    {
      "cell_type": "code",
      "source": [
        "int_list_2 = np.random.randint(200,300,500)\n",
        "int_list_2"
      ],
      "metadata": {
        "colab": {
          "base_uri": "https://localhost:8080/"
        },
        "id": "X2lmGxCBJito",
        "outputId": "b3d3d9f3-7322-4193-b876-46080088b23c"
      },
      "execution_count": 14,
      "outputs": [
        {
          "output_type": "execute_result",
          "data": {
            "text/plain": [
              "array([275, 212, 215, 283, 264, 242, 210, 277, 287, 236, 208, 239, 284,\n",
              "       209, 262, 232, 212, 295, 263, 204, 288, 255, 285, 237, 286, 297,\n",
              "       240, 206, 251, 206, 255, 211, 253, 200, 265, 257, 281, 292, 293,\n",
              "       253, 266, 248, 298, 264, 273, 232, 237, 282, 289, 248, 201, 233,\n",
              "       265, 299, 251, 251, 220, 271, 238, 222, 266, 289, 225, 212, 250,\n",
              "       278, 201, 214, 251, 268, 251, 235, 278, 209, 275, 290, 279, 260,\n",
              "       273, 295, 279, 290, 248, 299, 280, 244, 253, 289, 265, 244, 269,\n",
              "       248, 202, 219, 273, 242, 299, 282, 254, 256, 233, 271, 272, 253,\n",
              "       246, 227, 211, 227, 256, 233, 210, 298, 290, 208, 288, 238, 279,\n",
              "       205, 262, 225, 266, 241, 235, 242, 265, 277, 221, 252, 278, 267,\n",
              "       299, 260, 261, 211, 260, 276, 264, 236, 202, 287, 261, 233, 267,\n",
              "       254, 254, 298, 264, 259, 223, 214, 276, 221, 260, 233, 224, 287,\n",
              "       289, 298, 250, 245, 277, 211, 232, 242, 232, 284, 265, 258, 278,\n",
              "       264, 255, 255, 217, 258, 264, 235, 269, 248, 265, 214, 245, 299,\n",
              "       236, 222, 262, 266, 211, 270, 248, 246, 220, 204, 289, 204, 297,\n",
              "       233, 205, 200, 255, 246, 236, 297, 232, 228, 265, 281, 281, 246,\n",
              "       277, 203, 252, 265, 287, 254, 227, 287, 298, 265, 283, 254, 271,\n",
              "       263, 278, 262, 206, 218, 209, 294, 243, 290, 204, 235, 219, 208,\n",
              "       202, 207, 281, 227, 238, 218, 238, 254, 246, 263, 296, 212, 238,\n",
              "       210, 257, 297, 234, 281, 272, 253, 207, 277, 252, 223, 232, 287,\n",
              "       260, 235, 237, 233, 214, 202, 246, 244, 274, 207, 224, 287, 288,\n",
              "       294, 248, 298, 266, 264, 276, 298, 236, 251, 260, 232, 244, 282,\n",
              "       288, 227, 273, 212, 262, 259, 255, 230, 257, 234, 283, 254, 207,\n",
              "       290, 202, 206, 237, 213, 272, 242, 203, 273, 258, 286, 252, 235,\n",
              "       277, 286, 247, 229, 283, 266, 283, 212, 291, 214, 289, 230, 231,\n",
              "       263, 224, 258, 256, 268, 242, 235, 210, 270, 285, 224, 243, 208,\n",
              "       206, 226, 288, 217, 270, 269, 262, 217, 253, 240, 203, 232, 280,\n",
              "       231, 299, 226, 296, 234, 213, 297, 299, 268, 267, 200, 201, 223,\n",
              "       293, 282, 216, 274, 296, 262, 293, 262, 224, 246, 295, 266, 264,\n",
              "       259, 277, 204, 232, 209, 203, 250, 292, 207, 239, 268, 257, 238,\n",
              "       284, 215, 201, 264, 260, 255, 227, 262, 220, 202, 219, 288, 288,\n",
              "       277, 293, 238, 206, 252, 240, 259, 230, 276, 211, 242, 210, 219,\n",
              "       282, 204, 257, 267, 202, 272, 234, 218, 218, 276, 277, 258, 255,\n",
              "       297, 260, 234, 296, 271, 274, 270, 218, 271, 299, 250, 265, 224,\n",
              "       287, 261, 201, 240, 241, 217, 256, 224, 246, 249, 297, 297, 247,\n",
              "       203, 222, 279, 294, 218, 276, 271, 233, 281, 236, 206, 230, 267,\n",
              "       251, 243, 228, 298, 209, 286, 236, 276, 240, 224, 219, 235, 246,\n",
              "       201, 218, 276, 271, 247, 244, 267, 208, 299, 238, 283, 224, 229,\n",
              "       299, 274, 283, 287, 210, 221])"
            ]
          },
          "metadata": {},
          "execution_count": 14
        }
      ]
    },
    {
      "cell_type": "code",
      "source": [
        "'''\n",
        "B)a) Compare the given list of visualization for the given data:\n",
        "'''"
      ],
      "metadata": {
        "colab": {
          "base_uri": "https://localhost:8080/",
          "height": 35
        },
        "id": "tiKcp0g9J9ao",
        "outputId": "0d3ff207-2319-4d0c-9b6c-293283d69847"
      },
      "execution_count": 15,
      "outputs": [
        {
          "output_type": "execute_result",
          "data": {
            "text/plain": [
              "'\\nB)a) Compare the given list of visualization for the given data:\\n'"
            ],
            "application/vnd.google.colaboratory.intrinsic+json": {
              "type": "string"
            }
          },
          "metadata": {},
          "execution_count": 15
        }
      ]
    },
    {
      "cell_type": "code",
      "source": [
        "'''\n",
        "B)a)i)Frequency & Gaussian distribution\n",
        "ii)Frequency & smoothed KDE plot\n",
        "iii)Gaussian distribution & smoothed KDE plot\n",
        "'''"
      ],
      "metadata": {
        "colab": {
          "base_uri": "https://localhost:8080/",
          "height": 35
        },
        "id": "HgBQOU57KUn1",
        "outputId": "ecd1add8-f8e0-4e6b-b7e9-b4be49f6bfbb"
      },
      "execution_count": 16,
      "outputs": [
        {
          "output_type": "execute_result",
          "data": {
            "text/plain": [
              "'\\nB)a)i)Frequency & Gaussian distribution\\nii)Frequency & smoothed KDE plot\\niii)Gaussian distribution & smoothed KDE plot\\n'"
            ],
            "application/vnd.google.colaboratory.intrinsic+json": {
              "type": "string"
            }
          },
          "metadata": {},
          "execution_count": 16
        }
      ]
    },
    {
      "cell_type": "code",
      "source": [
        "fig, axs = plt.subplots(3, figsize=(15, 15))\n",
        "\n",
        "# (i) Frequency distribution and Gaussian distribution\n",
        "sns.histplot(int_list_2, bins=20, kde=True, ax=axs[0])\n",
        "sns.kdeplot(int_list_2, color='r', ax=axs[0], label='Gaussian KDE')\n",
        "axs[0].set_title('Frequency distribution and Gaussian distribution')\n",
        "axs[0].legend()\n",
        "\n",
        "# (ii) Frequency distribution and smoothed KDE plot\n",
        "sns.histplot(int_list_2, bins=20, kde=True, ax=axs[1])\n",
        "axs[1].set_title('Frequency distribution and smoothed KDE plot')\n",
        "\n",
        "# (iii) Gaussian distribution and smoothed KDE plot\n",
        "sns.kdeplot(int_list_2, color='b', ax=axs[2], label='Gaussian KDE')\n",
        "axs[2].set_title('Gaussian distribution and smoothed KDE plot')\n",
        "axs[2].legend()\n",
        "\n",
        "plt.tight_layout()\n",
        "plt.show()"
      ],
      "metadata": {
        "colab": {
          "base_uri": "https://localhost:8080/",
          "height": 1000
        },
        "id": "YcQUmxoSKdSq",
        "outputId": "d24a1169-798c-4c08-8a34-e247dfd1466c"
      },
      "execution_count": 17,
      "outputs": [
        {
          "output_type": "display_data",
          "data": {
            "text/plain": [
              "<Figure size 1500x1500 with 3 Axes>"
            ],
            "image/png": "[encoded data removed]"
          },
          "metadata": {}
        }
      ]
    },
    {
      "cell_type": "code",
      "source": [
        "'''\n",
        "B)b) Write a Python function to calculate the range of a given list of numbers\n",
        "'''"
      ],
      "metadata": {
        "colab": {
          "base_uri": "https://localhost:8080/",
          "height": 35
        },
        "id": "YfS_gnJ4PU8X",
        "outputId": "1e8153b5-1f00-4df5-a7a9-e1b62eb06083"
      },
      "execution_count": 18,
      "outputs": [
        {
          "output_type": "execute_result",
          "data": {
            "text/plain": [
              "'\\nB)b) Write a Python function to calculate the range of a given list of numbers\\n'"
            ],
            "application/vnd.google.colaboratory.intrinsic+json": {
              "type": "string"
            }
          },
          "metadata": {},
          "execution_count": 18
        }
      ]
    },
    {
      "cell_type": "code",
      "source": [
        "a = min(int_list_2)\n",
        "b = max(int_list_2)\n",
        "range = b-a\n",
        "range"
      ],
      "metadata": {
        "colab": {
          "base_uri": "https://localhost:8080/"
        },
        "id": "70KHoNmpRD3f",
        "outputId": "af9d54e6-989b-49b1-a50b-72d3212970ec"
      },
      "execution_count": 19,
      "outputs": [
        {
          "output_type": "execute_result",
          "data": {
            "text/plain": [
              "99"
            ]
          },
          "metadata": {},
          "execution_count": 19
        }
      ]
    },
    {
      "cell_type": "code",
      "source": [
        "'''\n",
        "B)c)  Create a program to find the variance and standard deviation of a list of numbers\n",
        "'''"
      ],
      "metadata": {
        "colab": {
          "base_uri": "https://localhost:8080/",
          "height": 35
        },
        "id": "DstqaaaJRIgv",
        "outputId": "fe77a393-78c8-4404-f240-0aa75fd21245"
      },
      "execution_count": 20,
      "outputs": [
        {
          "output_type": "execute_result",
          "data": {
            "text/plain": [
              "'\\nB)c)  Create a program to find the variance and standard deviation of a list of numbers\\n'"
            ],
            "application/vnd.google.colaboratory.intrinsic+json": {
              "type": "string"
            }
          },
          "metadata": {},
          "execution_count": 20
        }
      ]
    },
    {
      "cell_type": "code",
      "source": [
        "d = np.var(int_list_2)\n",
        "e = np.std(int_list_2)\n",
        "print(d,e)"
      ],
      "metadata": {
        "colab": {
          "base_uri": "https://localhost:8080/"
        },
        "id": "XHIUxOrTRPeJ",
        "outputId": "62290768-3af5-46b4-f7b4-d98c48623a41"
      },
      "execution_count": 21,
      "outputs": [
        {
          "output_type": "stream",
          "name": "stdout",
          "text": [
            "823.0944000000001 28.689621816956738\n"
          ]
        }
      ]
    },
    {
      "cell_type": "code",
      "source": [
        "'''\n",
        "B)d)  Implement a function to compute the interquartile range (IQR) of a list of values.\n",
        "'''"
      ],
      "metadata": {
        "colab": {
          "base_uri": "https://localhost:8080/",
          "height": 35
        },
        "id": "zcfHa9L-RWP2",
        "outputId": "42afbfb7-ef03-4165-e1f6-89f1b1264cb3"
      },
      "execution_count": 22,
      "outputs": [
        {
          "output_type": "execute_result",
          "data": {
            "text/plain": [
              "'\\nB)d)  Implement a function to compute the interquartile range (IQR) of a list of values.\\n'"
            ],
            "application/vnd.google.colaboratory.intrinsic+json": {
              "type": "string"
            }
          },
          "metadata": {},
          "execution_count": 22
        }
      ]
    },
    {
      "cell_type": "code",
      "source": [
        "f = np.percentile(int_list_2,75)\n",
        "g = np.percentile(int_list_2,25)\n",
        "iqr = f-g\n",
        "iqr"
      ],
      "metadata": {
        "colab": {
          "base_uri": "https://localhost:8080/"
        },
        "id": "Q2gz_4bBRkCz",
        "outputId": "91838820-7030-4ba4-f5e5-91d60c9719dc"
      },
      "execution_count": 23,
      "outputs": [
        {
          "output_type": "execute_result",
          "data": {
            "text/plain": [
              "48.25"
            ]
          },
          "metadata": {},
          "execution_count": 23
        }
      ]
    },
    {
      "cell_type": "code",
      "source": [
        "'''\n",
        "B) e) Build a program to calculate the coefficient of variation for a dataset.\n",
        "'''"
      ],
      "metadata": {
        "colab": {
          "base_uri": "https://localhost:8080/",
          "height": 35
        },
        "id": "de0sR-7KRsKD",
        "outputId": "16d2d815-fd08-4b54-c466-3429c53a7347"
      },
      "execution_count": 24,
      "outputs": [
        {
          "output_type": "execute_result",
          "data": {
            "text/plain": [
              "'\\nB) e) Build a program to calculate the coefficient of variation for a dataset.\\n'"
            ],
            "application/vnd.google.colaboratory.intrinsic+json": {
              "type": "string"
            }
          },
          "metadata": {},
          "execution_count": 24
        }
      ]
    },
    {
      "cell_type": "code",
      "source": [
        "h = np.std(int_list_2)/np.mean(int_list_2)\n",
        "h"
      ],
      "metadata": {
        "colab": {
          "base_uri": "https://localhost:8080/"
        },
        "id": "A5MFkEVdRzbJ",
        "outputId": "c8cdb7b4-8584-4512-ee94-857e7fa2206c"
      },
      "execution_count": 25,
      "outputs": [
        {
          "output_type": "execute_result",
          "data": {
            "text/plain": [
              "0.11431950038634339"
            ]
          },
          "metadata": {},
          "execution_count": 25
        }
      ]
    },
    {
      "cell_type": "code",
      "source": [
        "'''\n",
        "B) f) Write a Python function to find the mean absolute deviation (MAD) of a list of numbers.\n",
        "\n",
        "'''"
      ],
      "metadata": {
        "colab": {
          "base_uri": "https://localhost:8080/",
          "height": 35
        },
        "collapsed": true,
        "id": "fXF-N-93SkGn",
        "outputId": "a4f26c4c-7e2d-49ec-aef2-6ead6ad33884"
      },
      "execution_count": 26,
      "outputs": [
        {
          "output_type": "execute_result",
          "data": {
            "text/plain": [
              "'\\nB) f) Write a Python function to find the mean absolute deviation (MAD) of a list of numbers.\\n\\n'"
            ],
            "application/vnd.google.colaboratory.intrinsic+json": {
              "type": "string"
            }
          },
          "metadata": {},
          "execution_count": 26
        }
      ]
    },
    {
      "cell_type": "code",
      "source": [
        "i = np.mean(np.abs(int_list_2 - np.mean(int_list_2)))\n",
        "i"
      ],
      "metadata": {
        "colab": {
          "base_uri": "https://localhost:8080/"
        },
        "id": "EoQIugSvS5Kg",
        "outputId": "d066b498-dc76-4368-f0fb-afe27ae5637a"
      },
      "execution_count": 27,
      "outputs": [
        {
          "output_type": "execute_result",
          "data": {
            "text/plain": [
              "24.570400000000003"
            ]
          },
          "metadata": {},
          "execution_count": 27
        }
      ]
    },
    {
      "cell_type": "code",
      "source": [
        "'''\n",
        "B g) Create a program to calculate the quartile deviation of a list of values.\n",
        "'''"
      ],
      "metadata": {
        "colab": {
          "base_uri": "https://localhost:8080/",
          "height": 35
        },
        "id": "7aYpYJFCUqhk",
        "outputId": "4de8766f-3434-474e-ee30-bda956d9f63b"
      },
      "execution_count": 28,
      "outputs": [
        {
          "output_type": "execute_result",
          "data": {
            "text/plain": [
              "'\\nB g) Create a program to calculate the quartile deviation of a list of values.\\n'"
            ],
            "application/vnd.google.colaboratory.intrinsic+json": {
              "type": "string"
            }
          },
          "metadata": {},
          "execution_count": 28
        }
      ]
    },
    {
      "cell_type": "code",
      "source": [
        "q1 = np.percentile(int_list_2,25)\n",
        "q3 = np.percentile(int_list_2,75)\n",
        "QD = (q3-q1)/2\n",
        "QD"
      ],
      "metadata": {
        "colab": {
          "base_uri": "https://localhost:8080/"
        },
        "id": "MV8M8FR4VZST",
        "outputId": "ce89c62a-105a-4dfe-d1f6-3795edb50a9a"
      },
      "execution_count": 29,
      "outputs": [
        {
          "output_type": "execute_result",
          "data": {
            "text/plain": [
              "24.125"
            ]
          },
          "metadata": {},
          "execution_count": 29
        }
      ]
    },
    {
      "cell_type": "code",
      "source": [
        "'''\n",
        "B h)  Implement a function to find the range-based coefficient of dispersion for a dataset\n",
        "'''"
      ],
      "metadata": {
        "colab": {
          "base_uri": "https://localhost:8080/",
          "height": 35
        },
        "id": "BxVQKV4WWdF2",
        "outputId": "c27bdf56-1794-4a26-96e6-57218df7961f"
      },
      "execution_count": 30,
      "outputs": [
        {
          "output_type": "execute_result",
          "data": {
            "text/plain": [
              "'\\nB h)  Implement a function to find the range-based coefficient of dispersion for a dataset\\n'"
            ],
            "application/vnd.google.colaboratory.intrinsic+json": {
              "type": "string"
            }
          },
          "metadata": {},
          "execution_count": 30
        }
      ]
    },
    {
      "cell_type": "code",
      "source": [
        "j = max(int_list_2)\n",
        "k = min(int_list_2)\n",
        "lower = j-k\n",
        "upper = j+k\n",
        "\n",
        "CODR = lower/upper\n",
        "CODR"
      ],
      "metadata": {
        "colab": {
          "base_uri": "https://localhost:8080/"
        },
        "id": "IXel4YAjWqqe",
        "outputId": "15267946-9a1b-4ffb-fd8f-8ea2f3734ac3"
      },
      "execution_count": 31,
      "outputs": [
        {
          "output_type": "execute_result",
          "data": {
            "text/plain": [
              "0.19839679358717435"
            ]
          },
          "metadata": {},
          "execution_count": 31
        }
      ]
    },
    {
      "cell_type": "code",
      "source": [
        "'''\n",
        "C)  Write a Python class representing a discrete random variable with methods to calculate its expected\n",
        "value and variance.\n",
        "'''"
      ],
      "metadata": {
        "id": "XJ5nZc-fXxW6",
        "colab": {
          "base_uri": "https://localhost:8080/",
          "height": 35
        },
        "outputId": "1ef0fd59-484c-47dc-dc33-b5bb4f7ab776"
      },
      "execution_count": 32,
      "outputs": [
        {
          "output_type": "execute_result",
          "data": {
            "text/plain": [
              "'\\nC)  Write a Python class representing a discrete random variable with methods to calculate its expected\\nvalue and variance.\\n'"
            ],
            "application/vnd.google.colaboratory.intrinsic+json": {
              "type": "string"
            }
          },
          "metadata": {},
          "execution_count": 32
        }
      ]
    },
    {
      "cell_type": "code",
      "source": [
        "class DiscreteRandomVariable:\n",
        "    def __init__(self, values, probabilities):\n",
        "        self.values = values\n",
        "        self.probabilities = probabilities\n",
        "\n",
        "    def expected_value(self):\n",
        "        return sum(value * probability for value, probability in zip(self.values, self.probabilities))\n",
        "\n",
        "    def variance(self):\n",
        "        expected_value = self.expected_value()\n",
        "        return sum((value - expected_value) ** 2 * probability for value, probability in zip(self.values, self.probabilities))\n",
        "\n",
        "values = [1, 2, 3]\n",
        "probabilities = [0.4, 0.3, 0.3]\n",
        "random_variable = DiscreteRandomVariable(values, probabilities)  # Now you have defined the class\n",
        "\n",
        "expected_value = random_variable.expected_value()\n",
        "variance = random_variable.variance()\n",
        "\n",
        "print(\"Expected Value:\", expected_value)\n",
        "print(\"Variance:\", variance)"
      ],
      "metadata": {
        "colab": {
          "base_uri": "https://localhost:8080/"
        },
        "id": "RVmiD2DEYrkh",
        "outputId": "10ca3d4f-b5ca-415e-ca84-269eac7c9aec"
      },
      "execution_count": 33,
      "outputs": [
        {
          "output_type": "stream",
          "name": "stdout",
          "text": [
            "Expected Value: 1.9\n",
            "Variance: 0.69\n"
          ]
        }
      ]
    },
    {
      "cell_type": "code",
      "source": [
        "'''\n",
        "D ) Implement a program to simulate the rolling o6 a 6air six-sided die and calculate the expected value and\n",
        "variance of the outcomes.\n",
        "'''"
      ],
      "metadata": {
        "colab": {
          "base_uri": "https://localhost:8080/",
          "height": 35
        },
        "id": "VrV9RhSDZWNR",
        "outputId": "6fe0911f-ed3e-4ffc-c0da-26eae3eb6e7b"
      },
      "execution_count": 34,
      "outputs": [
        {
          "output_type": "execute_result",
          "data": {
            "text/plain": [
              "'\\nD ) Implement a program to simulate the rolling o6 a 6air six-sided die and calculate the expected value and\\nvariance of the outcomes.\\n'"
            ],
            "application/vnd.google.colaboratory.intrinsic+json": {
              "type": "string"
            }
          },
          "metadata": {},
          "execution_count": 34
        }
      ]
    },
    {
      "cell_type": "code",
      "source": [
        "rolls = np.random.randint(1,6,100)\n",
        "expected_value = np.mean(rolls)\n",
        "variance = np.var(rolls)\n",
        "(expected_value,variance)"
      ],
      "metadata": {
        "colab": {
          "base_uri": "https://localhost:8080/"
        },
        "id": "A6fWsd_uZs6N",
        "outputId": "7d707364-5542-494c-d201-71040c9eb77d"
      },
      "execution_count": 35,
      "outputs": [
        {
          "output_type": "execute_result",
          "data": {
            "text/plain": [
              "(3.13, 1.8531)"
            ]
          },
          "metadata": {},
          "execution_count": 35
        }
      ]
    },
    {
      "cell_type": "code",
      "source": [
        "'''\n",
        "E) Create a Python function to generate random samples from a given probabilies distribution (e.g.,\n",
        "binomial, Poisson) and calculate their mean and variance.\n",
        "'''"
      ],
      "metadata": {
        "colab": {
          "base_uri": "https://localhost:8080/",
          "height": 53
        },
        "id": "95OVNkeCbNr9",
        "outputId": "a1b2acce-1580-45a0-df0b-14048d5107db"
      },
      "execution_count": 36,
      "outputs": [
        {
          "output_type": "execute_result",
          "data": {
            "text/plain": [
              "'\\nE) Create a Python function to generate random samples from a given probabilies distribution (e.g.,\\nbinomial, Poisson) and calculate their mean and variance.\\n'"
            ],
            "application/vnd.google.colaboratory.intrinsic+json": {
              "type": "string"
            }
          },
          "metadata": {},
          "execution_count": 36
        }
      ]
    },
    {
      "cell_type": "code",
      "source": [
        "samples = np.random.binomial(10,0.5,10000)\n",
        "\n",
        "mean = np.mean(samples)\n",
        "variance = np.var(samples)\n",
        "\n",
        "(mean,variance)"
      ],
      "metadata": {
        "colab": {
          "base_uri": "https://localhost:8080/"
        },
        "id": "V2-tw6dwcrVX",
        "outputId": "09fefc35-6254-40ff-a951-a7032ed66c8c"
      },
      "execution_count": 37,
      "outputs": [
        {
          "output_type": "execute_result",
          "data": {
            "text/plain": [
              "(4.9804, 2.43061584)"
            ]
          },
          "metadata": {},
          "execution_count": 37
        }
      ]
    },
    {
      "cell_type": "code",
      "source": [
        "'''\n",
        "F) Write a PYthon script to generate random numbers 6rom a Gaussian (normal) distribution and compute\n",
        "the mean, variance, and standard deviation o6 the samples.\n",
        "\n",
        "'''"
      ],
      "metadata": {
        "colab": {
          "base_uri": "https://localhost:8080/",
          "height": 53
        },
        "id": "kFGvwr7qdoXA",
        "outputId": "e02ec080-ce38-4ef3-ae1a-f5e498a2510e"
      },
      "execution_count": 38,
      "outputs": [
        {
          "output_type": "execute_result",
          "data": {
            "text/plain": [
              "'\\nF) Write a PYthon script to generate random numbers 6rom a Gaussian (normal) distribution and compute\\nthe mean, variance, and standard deviation o6 the samples.\\n\\n'"
            ],
            "application/vnd.google.colaboratory.intrinsic+json": {
              "type": "string"
            }
          },
          "metadata": {},
          "execution_count": 38
        }
      ]
    },
    {
      "cell_type": "code",
      "source": [
        "Sample = np.random.normal(10,0.5,1000)\n",
        "\n",
        "mean = np.mean(Sample)\n",
        "variance = np.var(Sample)\n",
        "Standard_Deviation = np.std(Sample)\n",
        "\n",
        "(mean,variance,Standard_Deviation)\n"
      ],
      "metadata": {
        "colab": {
          "base_uri": "https://localhost:8080/"
        },
        "id": "CyMlVzYOd5Ly",
        "outputId": "5cd48ede-e946-4b69-883e-a5e8cdccd132"
      },
      "execution_count": 39,
      "outputs": [
        {
          "output_type": "execute_result",
          "data": {
            "text/plain": [
              "(10.022819865242134, 0.2530342473171914, 0.5030250961107123)"
            ]
          },
          "metadata": {},
          "execution_count": 39
        }
      ]
    },
    {
      "cell_type": "code",
      "source": [
        "'''\n",
        "G)  Use seaborn library to load tips dataset. Find the following from the dataset for the columns total_bill\n",
        "and tip`:\n",
        "'''"
      ],
      "metadata": {
        "colab": {
          "base_uri": "https://localhost:8080/",
          "height": 35
        },
        "id": "0DsFvmoveisx",
        "outputId": "4956c35c-78e6-4194-d0fb-f64f4e65b0a7"
      },
      "execution_count": 40,
      "outputs": [
        {
          "output_type": "execute_result",
          "data": {
            "text/plain": [
              "'\\nG)  Use seaborn library to load tips dataset. Find the following from the dataset for the columns total_bill\\nand tip`:\\n'"
            ],
            "application/vnd.google.colaboratory.intrinsic+json": {
              "type": "string"
            }
          },
          "metadata": {},
          "execution_count": 40
        }
      ]
    },
    {
      "cell_type": "code",
      "source": [
        "import seaborn as sns\n",
        "\n",
        "df = sns.load_dataset('tips')"
      ],
      "metadata": {
        "id": "uY2wxDC8l_0V"
      },
      "execution_count": 41,
      "outputs": []
    },
    {
      "cell_type": "code",
      "source": [
        "df.head()"
      ],
      "metadata": {
        "colab": {
          "base_uri": "https://localhost:8080/",
          "height": 206
        },
        "id": "2ZA1uammmTUg",
        "outputId": "0800d5d1-3975-432f-ec14-82cfc0590147"
      },
      "execution_count": 42,
      "outputs": [
        {
          "output_type": "execute_result",
          "data": {
            "text/plain": [
              "   total_bill   tip     sex smoker  day    time  size\n",
              "0       16.99  1.01  Female     No  Sun  Dinner     2\n",
              "1       10.34  1.66    Male     No  Sun  Dinner     3\n",
              "2       21.01  3.50    Male     No  Sun  Dinner     3\n",
              "3       23.68  3.31    Male     No  Sun  Dinner     2\n",
              "4       24.59  3.61  Female     No  Sun  Dinner     4"
            ],
            "text/html": [
              "\n",
              "  <div id=\"df-efe8e89e-5424-479c-ac53-f5674cc00f3f\" class=\"colab-df-container\">\n",
              "    <div>\n",
              "<style scoped>\n",
              "    .dataframe tbody tr th:only-of-type {\n",
              "        vertical-align: middle;\n",
              "    }\n",
              "\n",
              "    .dataframe tbody tr th {\n",
              "        vertical-align: top;\n",
              "    }\n",
              "\n",
              "    .dataframe thead th {\n",
              "        text-align: right;\n",
              "    }\n",
              "</style>\n",
              "<table border=\"1\" class=\"dataframe\">\n",
              "  <thead>\n",
              "    <tr style=\"text-align: right;\">\n",
              "      <th></th>\n",
              "      <th>total_bill</th>\n",
              "      <th>tip</th>\n",
              "      <th>sex</th>\n",
              "      <th>smoker</th>\n",
              "      <th>day</th>\n",
              "      <th>time</th>\n",
              "      <th>size</th>\n",
              "    </tr>\n",
              "  </thead>\n",
              "  <tbody>\n",
              "    <tr>\n",
              "      <th>0</th>\n",
              "      <td>16.99</td>\n",
              "      <td>1.01</td>\n",
              "      <td>Female</td>\n",
              "      <td>No</td>\n",
              "      <td>Sun</td>\n",
              "      <td>Dinner</td>\n",
              "      <td>2</td>\n",
              "    </tr>\n",
              "    <tr>\n",
              "      <th>1</th>\n",
              "      <td>10.34</td>\n",
              "      <td>1.66</td>\n",
              "      <td>Male</td>\n",
              "      <td>No</td>\n",
              "      <td>Sun</td>\n",
              "      <td>Dinner</td>\n",
              "      <td>3</td>\n",
              "    </tr>\n",
              "    <tr>\n",
              "      <th>2</th>\n",
              "      <td>21.01</td>\n",
              "      <td>3.50</td>\n",
              "      <td>Male</td>\n",
              "      <td>No</td>\n",
              "      <td>Sun</td>\n",
              "      <td>Dinner</td>\n",
              "      <td>3</td>\n",
              "    </tr>\n",
              "    <tr>\n",
              "      <th>3</th>\n",
              "      <td>23.68</td>\n",
              "      <td>3.31</td>\n",
              "      <td>Male</td>\n",
              "      <td>No</td>\n",
              "      <td>Sun</td>\n",
              "      <td>Dinner</td>\n",
              "      <td>2</td>\n",
              "    </tr>\n",
              "    <tr>\n",
              "      <th>4</th>\n",
              "      <td>24.59</td>\n",
              "      <td>3.61</td>\n",
              "      <td>Female</td>\n",
              "      <td>No</td>\n",
              "      <td>Sun</td>\n",
              "      <td>Dinner</td>\n",
              "      <td>4</td>\n",
              "    </tr>\n",
              "  </tbody>\n",
              "</table>\n",
              "</div>\n",
              "    <div class=\"colab-df-buttons\">\n",
              "\n",
              "  <div class=\"colab-df-container\">\n",
              "    <button class=\"colab-df-convert\" onclick=\"convertToInteractive('df-efe8e89e-5424-479c-ac53-f5674cc00f3f')\"\n",
              "            title=\"Convert this dataframe to an interactive table.\"\n",
              "            style=\"display:none;\">\n",
              "\n",
              "  <svg xmlns=\"http://www.w3.org/2000/svg\" height=\"24px\" viewBox=\"0 -960 960 960\">\n",
              "    <path d=\"M120-120v-720h720v720H120Zm60-500h600v-160H180v160Zm220 220h160v-160H400v160Zm0 220h160v-160H400v160ZM180-400h160v-160H180v160Zm440 0h160v-160H620v160ZM180-180h160v-160H180v160Zm440 0h160v-160H620v160Z\"/>\n",
              "  </svg>\n",
              "    </button>\n",
              "\n",
              "  <style>\n",
              "    .colab-df-container {\n",
              "      display:flex;\n",
              "      gap: 12px;\n",
              "    }\n",
              "\n",
              "    .colab-df-convert {\n",
              "      background-color: #E8F0FE;\n",
              "      border: none;\n",
              "      border-radius: 50%;\n",
              "      cursor: pointer;\n",
              "      display: none;\n",
              "      fill: #1967D2;\n",
              "      height: 32px;\n",
              "      padding: 0 0 0 0;\n",
              "      width: 32px;\n",
              "    }\n",
              "\n",
              "    .colab-df-convert:hover {\n",
              "      background-color: #E2EBFA;\n",
              "      box-shadow: 0px 1px 2px rgba(60, 64, 67, 0.3), 0px 1px 3px 1px rgba(60, 64, 67, 0.15);\n",
              "      fill: #174EA6;\n",
              "    }\n",
              "\n",
              "    .colab-df-buttons div {\n",
              "      margin-bottom: 4px;\n",
              "    }\n",
              "\n",
              "    [theme=dark] .colab-df-convert {\n",
              "      background-color: #3B4455;\n",
              "      fill: #D2E3FC;\n",
              "    }\n",
              "\n",
              "    [theme=dark] .colab-df-convert:hover {\n",
              "      background-color: #434B5C;\n",
              "      box-shadow: 0px 1px 3px 1px rgba(0, 0, 0, 0.15);\n",
              "      filter: drop-shadow(0px 1px 2px rgba(0, 0, 0, 0.3));\n",
              "      fill: #FFFFFF;\n",
              "    }\n",
              "  </style>\n",
              "\n",
              "    <script>\n",
              "      const buttonEl =\n",
              "        document.querySelector('#df-efe8e89e-5424-479c-ac53-f5674cc00f3f button.colab-df-convert');\n",
              "      buttonEl.style.display =\n",
              "        google.colab.kernel.accessAllowed ? 'block' : 'none';\n",
              "\n",
              "      async function convertToInteractive(key) {\n",
              "        const element = document.querySelector('#df-efe8e89e-5424-479c-ac53-f5674cc00f3f');\n",
              "        const dataTable =\n",
              "          await google.colab.kernel.invokeFunction('convertToInteractive',\n",
              "                                                    [key], {});\n",
              "        if (!dataTable) return;\n",
              "\n",
              "        const docLinkHtml = 'Like what you see? Visit the ' +\n",
              "          '<a target=\"_blank\" href=https://colab.research.google.com/notebooks/data_table.ipynb>data table notebook</a>'\n",
              "          + ' to learn more about interactive tables.';\n",
              "        element.innerHTML = '';\n",
              "        dataTable['output_type'] = 'display_data';\n",
              "        await google.colab.output.renderOutput(dataTable, element);\n",
              "        const docLink = document.createElement('div');\n",
              "        docLink.innerHTML = docLinkHtml;\n",
              "        element.appendChild(docLink);\n",
              "      }\n",
              "    </script>\n",
              "  </div>\n",
              "\n",
              "\n",
              "<div id=\"df-9a56deaa-08f1-443e-8ffa-2556d6f90939\">\n",
              "  <button class=\"colab-df-quickchart\" onclick=\"quickchart('df-9a56deaa-08f1-443e-8ffa-2556d6f90939')\"\n",
              "            title=\"Suggest charts\"\n",
              "            style=\"display:none;\">\n",
              "\n",
              "<svg xmlns=\"http://www.w3.org/2000/svg\" height=\"24px\"viewBox=\"0 0 24 24\"\n",
              "     width=\"24px\">\n",
              "    <g>\n",
              "        <path d=\"M19 3H5c-1.1 0-2 .9-2 2v14c0 1.1.9 2 2 2h14c1.1 0 2-.9 2-2V5c0-1.1-.9-2-2-2zM9 17H7v-7h2v7zm4 0h-2V7h2v10zm4 0h-2v-4h2v4z\"/>\n",
              "    </g>\n",
              "</svg>\n",
              "  </button>\n",
              "\n",
              "<style>\n",
              "  .colab-df-quickchart {\n",
              "      --bg-color: #E8F0FE;\n",
              "      --fill-color: #1967D2;\n",
              "      --hover-bg-color: #E2EBFA;\n",
              "      --hover-fill-color: #174EA6;\n",
              "      --disabled-fill-color: #AAA;\n",
              "      --disabled-bg-color: #DDD;\n",
              "  }\n",
              "\n",
              "  [theme=dark] .colab-df-quickchart {\n",
              "      --bg-color: #3B4455;\n",
              "      --fill-color: #D2E3FC;\n",
              "      --hover-bg-color: #434B5C;\n",
              "      --hover-fill-color: #FFFFFF;\n",
              "      --disabled-bg-color: #3B4455;\n",
              "      --disabled-fill-color: #666;\n",
              "  }\n",
              "\n",
              "  .colab-df-quickchart {\n",
              "    background-color: var(--bg-color);\n",
              "    border: none;\n",
              "    border-radius: 50%;\n",
              "    cursor: pointer;\n",
              "    display: none;\n",
              "    fill: var(--fill-color);\n",
              "    height: 32px;\n",
              "    padding: 0;\n",
              "    width: 32px;\n",
              "  }\n",
              "\n",
              "  .colab-df-quickchart:hover {\n",
              "    background-color: var(--hover-bg-color);\n",
              "    box-shadow: 0 1px 2px rgba(60, 64, 67, 0.3), 0 1px 3px 1px rgba(60, 64, 67, 0.15);\n",
              "    fill: var(--button-hover-fill-color);\n",
              "  }\n",
              "\n",
              "  .colab-df-quickchart-complete:disabled,\n",
              "  .colab-df-quickchart-complete:disabled:hover {\n",
              "    background-color: var(--disabled-bg-color);\n",
              "    fill: var(--disabled-fill-color);\n",
              "    box-shadow: none;\n",
              "  }\n",
              "\n",
              "  .colab-df-spinner {\n",
              "    border: 2px solid var(--fill-color);\n",
              "    border-color: transparent;\n",
              "    border-bottom-color: var(--fill-color);\n",
              "    animation:\n",
              "      spin 1s steps(1) infinite;\n",
              "  }\n",
              "\n",
              "  @keyframes spin {\n",
              "    0% {\n",
              "      border-color: transparent;\n",
              "      border-bottom-color: var(--fill-color);\n",
              "      border-left-color: var(--fill-color);\n",
              "    }\n",
              "    20% {\n",
              "      border-color: transparent;\n",
              "      border-left-color: var(--fill-color);\n",
              "      border-top-color: var(--fill-color);\n",
              "    }\n",
              "    30% {\n",
              "      border-color: transparent;\n",
              "      border-left-color: var(--fill-color);\n",
              "      border-top-color: var(--fill-color);\n",
              "      border-right-color: var(--fill-color);\n",
              "    }\n",
              "    40% {\n",
              "      border-color: transparent;\n",
              "      border-right-color: var(--fill-color);\n",
              "      border-top-color: var(--fill-color);\n",
              "    }\n",
              "    60% {\n",
              "      border-color: transparent;\n",
              "      border-right-color: var(--fill-color);\n",
              "    }\n",
              "    80% {\n",
              "      border-color: transparent;\n",
              "      border-right-color: var(--fill-color);\n",
              "      border-bottom-color: var(--fill-color);\n",
              "    }\n",
              "    90% {\n",
              "      border-color: transparent;\n",
              "      border-bottom-color: var(--fill-color);\n",
              "    }\n",
              "  }\n",
              "</style>\n",
              "\n",
              "  <script>\n",
              "    async function quickchart(key) {\n",
              "      const quickchartButtonEl =\n",
              "        document.querySelector('#' + key + ' button');\n",
              "      quickchartButtonEl.disabled = true;  // To prevent multiple clicks.\n",
              "      quickchartButtonEl.classList.add('colab-df-spinner');\n",
              "      try {\n",
              "        const charts = await google.colab.kernel.invokeFunction(\n",
              "            'suggestCharts', [key], {});\n",
              "      } catch (error) {\n",
              "        console.error('Error during call to suggestCharts:', error);\n",
              "      }\n",
              "      quickchartButtonEl.classList.remove('colab-df-spinner');\n",
              "      quickchartButtonEl.classList.add('colab-df-quickchart-complete');\n",
              "    }\n",
              "    (() => {\n",
              "      let quickchartButtonEl =\n",
              "        document.querySelector('#df-9a56deaa-08f1-443e-8ffa-2556d6f90939 button');\n",
              "      quickchartButtonEl.style.display =\n",
              "        google.colab.kernel.accessAllowed ? 'block' : 'none';\n",
              "    })();\n",
              "  </script>\n",
              "</div>\n",
              "\n",
              "    </div>\n",
              "  </div>\n"
            ],
            "application/vnd.google.colaboratory.intrinsic+json": {
              "type": "dataframe",
              "variable_name": "df",
              "summary": "{\n  \"name\": \"df\",\n  \"rows\": 244,\n  \"fields\": [\n    {\n      \"column\": \"total_bill\",\n      \"properties\": {\n        \"dtype\": \"number\",\n        \"std\": 8.902411954856856,\n        \"min\": 3.07,\n        \"max\": 50.81,\n        \"num_unique_values\": 229,\n        \"samples\": [\n          22.12,\n          20.23,\n          14.78\n        ],\n        \"semantic_type\": \"\",\n        \"description\": \"\"\n      }\n    },\n    {\n      \"column\": \"tip\",\n      \"properties\": {\n        \"dtype\": \"number\",\n        \"std\": 1.3836381890011822,\n        \"min\": 1.0,\n        \"max\": 10.0,\n        \"num_unique_values\": 123,\n        \"samples\": [\n          3.35,\n          1.5,\n          6.73\n        ],\n        \"semantic_type\": \"\",\n        \"description\": \"\"\n      }\n    },\n    {\n      \"column\": \"sex\",\n      \"properties\": {\n        \"dtype\": \"category\",\n        \"num_unique_values\": 2,\n        \"samples\": [\n          \"Male\",\n          \"Female\"\n        ],\n        \"semantic_type\": \"\",\n        \"description\": \"\"\n      }\n    },\n    {\n      \"column\": \"smoker\",\n      \"properties\": {\n        \"dtype\": \"category\",\n        \"num_unique_values\": 2,\n        \"samples\": [\n          \"Yes\",\n          \"No\"\n        ],\n        \"semantic_type\": \"\",\n        \"description\": \"\"\n      }\n    },\n    {\n      \"column\": \"day\",\n      \"properties\": {\n        \"dtype\": \"category\",\n        \"num_unique_values\": 4,\n        \"samples\": [\n          \"Sat\",\n          \"Fri\"\n        ],\n        \"semantic_type\": \"\",\n        \"description\": \"\"\n      }\n    },\n    {\n      \"column\": \"time\",\n      \"properties\": {\n        \"dtype\": \"category\",\n        \"num_unique_values\": 2,\n        \"samples\": [\n          \"Lunch\",\n          \"Dinner\"\n        ],\n        \"semantic_type\": \"\",\n        \"description\": \"\"\n      }\n    },\n    {\n      \"column\": \"size\",\n      \"properties\": {\n        \"dtype\": \"number\",\n        \"std\": 0,\n        \"min\": 1,\n        \"max\": 6,\n        \"num_unique_values\": 6,\n        \"samples\": [\n          2,\n          3\n        ],\n        \"semantic_type\": \"\",\n        \"description\": \"\"\n      }\n    }\n  ]\n}"
            }
          },
          "metadata": {},
          "execution_count": 42
        }
      ]
    },
    {
      "cell_type": "code",
      "source": [
        "'''\n",
        "G) a)  Write a Python function that calculates their('total_bill','tips') skewness\n",
        "'''"
      ],
      "metadata": {
        "colab": {
          "base_uri": "https://localhost:8080/",
          "height": 35
        },
        "id": "Ksuiyo-0mVHs",
        "outputId": "49949376-ba3a-43f0-ab99-0bf8cd0d0861"
      },
      "execution_count": 43,
      "outputs": [
        {
          "output_type": "execute_result",
          "data": {
            "text/plain": [
              "\"\\nG) a)  Write a Python function that calculates their('total_bill','tips') skewness\\n\""
            ],
            "application/vnd.google.colaboratory.intrinsic+json": {
              "type": "string"
            }
          },
          "metadata": {},
          "execution_count": 43
        }
      ]
    },
    {
      "cell_type": "code",
      "source": [
        "from scipy.stats import skew as s\n",
        "\n",
        "sk = s(df[['total_bill','tip']])\n",
        "sk"
      ],
      "metadata": {
        "colab": {
          "base_uri": "https://localhost:8080/"
        },
        "id": "9eB4rTOAmk-E",
        "outputId": "3cec6ed2-12f9-4685-a17b-d640737e7a6f"
      },
      "execution_count": 44,
      "outputs": [
        {
          "output_type": "execute_result",
          "data": {
            "text/plain": [
              "array([1.12623463, 1.45642669])"
            ]
          },
          "metadata": {},
          "execution_count": 44
        }
      ]
    },
    {
      "cell_type": "code",
      "source": [
        "'''\n",
        "G) b)  Create a program that determines whether the columns has positive skewness, negative skewness, or is\n",
        "approximately symmetric.\n",
        "'''"
      ],
      "metadata": {
        "colab": {
          "base_uri": "https://localhost:8080/",
          "height": 35
        },
        "id": "M3IotZGsnEEM",
        "outputId": "373daa4b-8328-4ef8-f16b-a794d0767732"
      },
      "execution_count": 45,
      "outputs": [
        {
          "output_type": "execute_result",
          "data": {
            "text/plain": [
              "'\\nG) b)  Create a program that determines whether the columns has positive skewness, negative skewness, or is\\napproximately symmetric.\\n'"
            ],
            "application/vnd.google.colaboratory.intrinsic+json": {
              "type": "string"
            }
          },
          "metadata": {},
          "execution_count": 45
        }
      ]
    },
    {
      "cell_type": "code",
      "source": [
        "skewness_bill = s(df['total_bill'])\n",
        "if skewness_bill > 0:\n",
        "    print(\"The data is right-skewed.\")\n",
        "elif skewness_bill < 0:\n",
        "    print(\"The data is left-skewed.\")\n",
        "else:\n",
        "    print(\"The data is approximately symmetric.\")\n",
        "print(skewness_bill)"
      ],
      "metadata": {
        "colab": {
          "base_uri": "https://localhost:8080/"
        },
        "id": "JTC29qZLnWvG",
        "outputId": "53c18cb8-41c1-4f7c-90ed-de44d7328f3d"
      },
      "execution_count": 46,
      "outputs": [
        {
          "output_type": "stream",
          "name": "stdout",
          "text": [
            "The data is right-skewed.\n",
            "1.1262346334818638\n"
          ]
        }
      ]
    },
    {
      "cell_type": "code",
      "source": [
        "skewness_tips = s(df['tip'])\n",
        "if skewness_tips > 0:\n",
        "    print(\"The data is right-skewed.\")\n",
        "elif skewness_tips < 0:\n",
        "    print(\"The data is left-skewed.\")\n",
        "else:\n",
        "    print(\"The data is approximately symmetric.\")\n",
        "print(skewness_tips)"
      ],
      "metadata": {
        "colab": {
          "base_uri": "https://localhost:8080/"
        },
        "id": "50RExAxaoCqI",
        "outputId": "050cfbe5-9fea-4e76-893e-d3397dff0923"
      },
      "execution_count": 47,
      "outputs": [
        {
          "output_type": "stream",
          "name": "stdout",
          "text": [
            "The data is right-skewed.\n",
            "1.4564266884221506\n"
          ]
        }
      ]
    },
    {
      "cell_type": "code",
      "source": [
        "'''\n",
        "G) c) Write a function that calculates the covariance between two columns.\n",
        "'''"
      ],
      "metadata": {
        "colab": {
          "base_uri": "https://localhost:8080/",
          "height": 35
        },
        "id": "OsATSZ0MoO2V",
        "outputId": "c146e2dc-33f8-4815-f5bf-b893272ffee0"
      },
      "execution_count": 48,
      "outputs": [
        {
          "output_type": "execute_result",
          "data": {
            "text/plain": [
              "'\\nG) c) Write a function that calculates the covariance between two columns.\\n'"
            ],
            "application/vnd.google.colaboratory.intrinsic+json": {
              "type": "string"
            }
          },
          "metadata": {},
          "execution_count": 48
        }
      ]
    },
    {
      "cell_type": "code",
      "source": [
        "cov = np.cov(df['total_bill'], df['tip'])\n",
        "cov1 = pd.DataFrame(cov)\n",
        "cov1"
      ],
      "metadata": {
        "colab": {
          "base_uri": "https://localhost:8080/",
          "height": 125
        },
        "id": "xDcMByIFo_LK",
        "outputId": "93a8827d-9580-4f5b-85f5-54a51a075792"
      },
      "execution_count": 49,
      "outputs": [
        {
          "output_type": "execute_result",
          "data": {
            "text/plain": [
              "           0         1\n",
              "0  79.252939  8.323502\n",
              "1   8.323502  1.914455"
            ],
            "text/html": [
              "\n",
              "  <div id=\"df-9f6a984e-2669-40af-a302-2a79d5ca4faf\" class=\"colab-df-container\">\n",
              "    <div>\n",
              "<style scoped>\n",
              "    .dataframe tbody tr th:only-of-type {\n",
              "        vertical-align: middle;\n",
              "    }\n",
              "\n",
              "    .dataframe tbody tr th {\n",
              "        vertical-align: top;\n",
              "    }\n",
              "\n",
              "    .dataframe thead th {\n",
              "        text-align: right;\n",
              "    }\n",
              "</style>\n",
              "<table border=\"1\" class=\"dataframe\">\n",
              "  <thead>\n",
              "    <tr style=\"text-align: right;\">\n",
              "      <th></th>\n",
              "      <th>0</th>\n",
              "      <th>1</th>\n",
              "    </tr>\n",
              "  </thead>\n",
              "  <tbody>\n",
              "    <tr>\n",
              "      <th>0</th>\n",
              "      <td>79.252939</td>\n",
              "      <td>8.323502</td>\n",
              "    </tr>\n",
              "    <tr>\n",
              "      <th>1</th>\n",
              "      <td>8.323502</td>\n",
              "      <td>1.914455</td>\n",
              "    </tr>\n",
              "  </tbody>\n",
              "</table>\n",
              "</div>\n",
              "    <div class=\"colab-df-buttons\">\n",
              "\n",
              "  <div class=\"colab-df-container\">\n",
              "    <button class=\"colab-df-convert\" onclick=\"convertToInteractive('df-9f6a984e-2669-40af-a302-2a79d5ca4faf')\"\n",
              "            title=\"Convert this dataframe to an interactive table.\"\n",
              "            style=\"display:none;\">\n",
              "\n",
              "  <svg xmlns=\"http://www.w3.org/2000/svg\" height=\"24px\" viewBox=\"0 -960 960 960\">\n",
              "    <path d=\"M120-120v-720h720v720H120Zm60-500h600v-160H180v160Zm220 220h160v-160H400v160Zm0 220h160v-160H400v160ZM180-400h160v-160H180v160Zm440 0h160v-160H620v160ZM180-180h160v-160H180v160Zm440 0h160v-160H620v160Z\"/>\n",
              "  </svg>\n",
              "    </button>\n",
              "\n",
              "  <style>\n",
              "    .colab-df-container {\n",
              "      display:flex;\n",
              "      gap: 12px;\n",
              "    }\n",
              "\n",
              "    .colab-df-convert {\n",
              "      background-color: #E8F0FE;\n",
              "      border: none;\n",
              "      border-radius: 50%;\n",
              "      cursor: pointer;\n",
              "      display: none;\n",
              "      fill: #1967D2;\n",
              "      height: 32px;\n",
              "      padding: 0 0 0 0;\n",
              "      width: 32px;\n",
              "    }\n",
              "\n",
              "    .colab-df-convert:hover {\n",
              "      background-color: #E2EBFA;\n",
              "      box-shadow: 0px 1px 2px rgba(60, 64, 67, 0.3), 0px 1px 3px 1px rgba(60, 64, 67, 0.15);\n",
              "      fill: #174EA6;\n",
              "    }\n",
              "\n",
              "    .colab-df-buttons div {\n",
              "      margin-bottom: 4px;\n",
              "    }\n",
              "\n",
              "    [theme=dark] .colab-df-convert {\n",
              "      background-color: #3B4455;\n",
              "      fill: #D2E3FC;\n",
              "    }\n",
              "\n",
              "    [theme=dark] .colab-df-convert:hover {\n",
              "      background-color: #434B5C;\n",
              "      box-shadow: 0px 1px 3px 1px rgba(0, 0, 0, 0.15);\n",
              "      filter: drop-shadow(0px 1px 2px rgba(0, 0, 0, 0.3));\n",
              "      fill: #FFFFFF;\n",
              "    }\n",
              "  </style>\n",
              "\n",
              "    <script>\n",
              "      const buttonEl =\n",
              "        document.querySelector('#df-9f6a984e-2669-40af-a302-2a79d5ca4faf button.colab-df-convert');\n",
              "      buttonEl.style.display =\n",
              "        google.colab.kernel.accessAllowed ? 'block' : 'none';\n",
              "\n",
              "      async function convertToInteractive(key) {\n",
              "        const element = document.querySelector('#df-9f6a984e-2669-40af-a302-2a79d5ca4faf');\n",
              "        const dataTable =\n",
              "          await google.colab.kernel.invokeFunction('convertToInteractive',\n",
              "                                                    [key], {});\n",
              "        if (!dataTable) return;\n",
              "\n",
              "        const docLinkHtml = 'Like what you see? Visit the ' +\n",
              "          '<a target=\"_blank\" href=https://colab.research.google.com/notebooks/data_table.ipynb>data table notebook</a>'\n",
              "          + ' to learn more about interactive tables.';\n",
              "        element.innerHTML = '';\n",
              "        dataTable['output_type'] = 'display_data';\n",
              "        await google.colab.output.renderOutput(dataTable, element);\n",
              "        const docLink = document.createElement('div');\n",
              "        docLink.innerHTML = docLinkHtml;\n",
              "        element.appendChild(docLink);\n",
              "      }\n",
              "    </script>\n",
              "  </div>\n",
              "\n",
              "\n",
              "<div id=\"df-e148ffc4-baca-4a63-9cfb-dc12b7a41f25\">\n",
              "  <button class=\"colab-df-quickchart\" onclick=\"quickchart('df-e148ffc4-baca-4a63-9cfb-dc12b7a41f25')\"\n",
              "            title=\"Suggest charts\"\n",
              "            style=\"display:none;\">\n",
              "\n",
              "<svg xmlns=\"http://www.w3.org/2000/svg\" height=\"24px\"viewBox=\"0 0 24 24\"\n",
              "     width=\"24px\">\n",
              "    <g>\n",
              "        <path d=\"M19 3H5c-1.1 0-2 .9-2 2v14c0 1.1.9 2 2 2h14c1.1 0 2-.9 2-2V5c0-1.1-.9-2-2-2zM9 17H7v-7h2v7zm4 0h-2V7h2v10zm4 0h-2v-4h2v4z\"/>\n",
              "    </g>\n",
              "</svg>\n",
              "  </button>\n",
              "\n",
              "<style>\n",
              "  .colab-df-quickchart {\n",
              "      --bg-color: #E8F0FE;\n",
              "      --fill-color: #1967D2;\n",
              "      --hover-bg-color: #E2EBFA;\n",
              "      --hover-fill-color: #174EA6;\n",
              "      --disabled-fill-color: #AAA;\n",
              "      --disabled-bg-color: #DDD;\n",
              "  }\n",
              "\n",
              "  [theme=dark] .colab-df-quickchart {\n",
              "      --bg-color: #3B4455;\n",
              "      --fill-color: #D2E3FC;\n",
              "      --hover-bg-color: #434B5C;\n",
              "      --hover-fill-color: #FFFFFF;\n",
              "      --disabled-bg-color: #3B4455;\n",
              "      --disabled-fill-color: #666;\n",
              "  }\n",
              "\n",
              "  .colab-df-quickchart {\n",
              "    background-color: var(--bg-color);\n",
              "    border: none;\n",
              "    border-radius: 50%;\n",
              "    cursor: pointer;\n",
              "    display: none;\n",
              "    fill: var(--fill-color);\n",
              "    height: 32px;\n",
              "    padding: 0;\n",
              "    width: 32px;\n",
              "  }\n",
              "\n",
              "  .colab-df-quickchart:hover {\n",
              "    background-color: var(--hover-bg-color);\n",
              "    box-shadow: 0 1px 2px rgba(60, 64, 67, 0.3), 0 1px 3px 1px rgba(60, 64, 67, 0.15);\n",
              "    fill: var(--button-hover-fill-color);\n",
              "  }\n",
              "\n",
              "  .colab-df-quickchart-complete:disabled,\n",
              "  .colab-df-quickchart-complete:disabled:hover {\n",
              "    background-color: var(--disabled-bg-color);\n",
              "    fill: var(--disabled-fill-color);\n",
              "    box-shadow: none;\n",
              "  }\n",
              "\n",
              "  .colab-df-spinner {\n",
              "    border: 2px solid var(--fill-color);\n",
              "    border-color: transparent;\n",
              "    border-bottom-color: var(--fill-color);\n",
              "    animation:\n",
              "      spin 1s steps(1) infinite;\n",
              "  }\n",
              "\n",
              "  @keyframes spin {\n",
              "    0% {\n",
              "      border-color: transparent;\n",
              "      border-bottom-color: var(--fill-color);\n",
              "      border-left-color: var(--fill-color);\n",
              "    }\n",
              "    20% {\n",
              "      border-color: transparent;\n",
              "      border-left-color: var(--fill-color);\n",
              "      border-top-color: var(--fill-color);\n",
              "    }\n",
              "    30% {\n",
              "      border-color: transparent;\n",
              "      border-left-color: var(--fill-color);\n",
              "      border-top-color: var(--fill-color);\n",
              "      border-right-color: var(--fill-color);\n",
              "    }\n",
              "    40% {\n",
              "      border-color: transparent;\n",
              "      border-right-color: var(--fill-color);\n",
              "      border-top-color: var(--fill-color);\n",
              "    }\n",
              "    60% {\n",
              "      border-color: transparent;\n",
              "      border-right-color: var(--fill-color);\n",
              "    }\n",
              "    80% {\n",
              "      border-color: transparent;\n",
              "      border-right-color: var(--fill-color);\n",
              "      border-bottom-color: var(--fill-color);\n",
              "    }\n",
              "    90% {\n",
              "      border-color: transparent;\n",
              "      border-bottom-color: var(--fill-color);\n",
              "    }\n",
              "  }\n",
              "</style>\n",
              "\n",
              "  <script>\n",
              "    async function quickchart(key) {\n",
              "      const quickchartButtonEl =\n",
              "        document.querySelector('#' + key + ' button');\n",
              "      quickchartButtonEl.disabled = true;  // To prevent multiple clicks.\n",
              "      quickchartButtonEl.classList.add('colab-df-spinner');\n",
              "      try {\n",
              "        const charts = await google.colab.kernel.invokeFunction(\n",
              "            'suggestCharts', [key], {});\n",
              "      } catch (error) {\n",
              "        console.error('Error during call to suggestCharts:', error);\n",
              "      }\n",
              "      quickchartButtonEl.classList.remove('colab-df-spinner');\n",
              "      quickchartButtonEl.classList.add('colab-df-quickchart-complete');\n",
              "    }\n",
              "    (() => {\n",
              "      let quickchartButtonEl =\n",
              "        document.querySelector('#df-e148ffc4-baca-4a63-9cfb-dc12b7a41f25 button');\n",
              "      quickchartButtonEl.style.display =\n",
              "        google.colab.kernel.accessAllowed ? 'block' : 'none';\n",
              "    })();\n",
              "  </script>\n",
              "</div>\n",
              "\n",
              "  <div id=\"id_b49988ca-7e58-4c88-a6b3-f0f8efe9ad73\">\n",
              "    <style>\n",
              "      .colab-df-generate {\n",
              "        background-color: #E8F0FE;\n",
              "        border: none;\n",
              "        border-radius: 50%;\n",
              "        cursor: pointer;\n",
              "        display: none;\n",
              "        fill: #1967D2;\n",
              "        height: 32px;\n",
              "        padding: 0 0 0 0;\n",
              "        width: 32px;\n",
              "      }\n",
              "\n",
              "      .colab-df-generate:hover {\n",
              "        background-color: #E2EBFA;\n",
              "        box-shadow: 0px 1px 2px rgba(60, 64, 67, 0.3), 0px 1px 3px 1px rgba(60, 64, 67, 0.15);\n",
              "        fill: #174EA6;\n",
              "      }\n",
              "\n",
              "      [theme=dark] .colab-df-generate {\n",
              "        background-color: #3B4455;\n",
              "        fill: #D2E3FC;\n",
              "      }\n",
              "\n",
              "      [theme=dark] .colab-df-generate:hover {\n",
              "        background-color: #434B5C;\n",
              "        box-shadow: 0px 1px 3px 1px rgba(0, 0, 0, 0.15);\n",
              "        filter: drop-shadow(0px 1px 2px rgba(0, 0, 0, 0.3));\n",
              "        fill: #FFFFFF;\n",
              "      }\n",
              "    </style>\n",
              "    <button class=\"colab-df-generate\" onclick=\"generateWithVariable('cov1')\"\n",
              "            title=\"Generate code using this dataframe.\"\n",
              "            style=\"display:none;\">\n",
              "\n",
              "  <svg xmlns=\"http://www.w3.org/2000/svg\" height=\"24px\"viewBox=\"0 0 24 24\"\n",
              "       width=\"24px\">\n",
              "    <path d=\"M7,19H8.4L18.45,9,17,7.55,7,17.6ZM5,21V16.75L18.45,3.32a2,2,0,0,1,2.83,0l1.4,1.43a1.91,1.91,0,0,1,.58,1.4,1.91,1.91,0,0,1-.58,1.4L9.25,21ZM18.45,9,17,7.55Zm-12,3A5.31,5.31,0,0,0,4.9,8.1,5.31,5.31,0,0,0,1,6.5,5.31,5.31,0,0,0,4.9,4.9,5.31,5.31,0,0,0,6.5,1,5.31,5.31,0,0,0,8.1,4.9,5.31,5.31,0,0,0,12,6.5,5.46,5.46,0,0,0,6.5,12Z\"/>\n",
              "  </svg>\n",
              "    </button>\n",
              "    <script>\n",
              "      (() => {\n",
              "      const buttonEl =\n",
              "        document.querySelector('#id_b49988ca-7e58-4c88-a6b3-f0f8efe9ad73 button.colab-df-generate');\n",
              "      buttonEl.style.display =\n",
              "        google.colab.kernel.accessAllowed ? 'block' : 'none';\n",
              "\n",
              "      buttonEl.onclick = () => {\n",
              "        google.colab.notebook.generateWithVariable('cov1');\n",
              "      }\n",
              "      })();\n",
              "    </script>\n",
              "  </div>\n",
              "\n",
              "    </div>\n",
              "  </div>\n"
            ],
            "application/vnd.google.colaboratory.intrinsic+json": {
              "type": "dataframe",
              "variable_name": "cov1",
              "summary": "{\n  \"name\": \"cov1\",\n  \"rows\": 2,\n  \"fields\": [\n    {\n      \"column\": 0,\n      \"properties\": {\n        \"dtype\": \"number\",\n        \"std\": 50.15468587766306,\n        \"min\": 8.323501629224854,\n        \"max\": 79.25293861397829,\n        \"num_unique_values\": 2,\n        \"samples\": [\n          8.323501629224854,\n          79.25293861397829\n        ],\n        \"semantic_type\": \"\",\n        \"description\": \"\"\n      }\n    },\n    {\n      \"column\": 1,\n      \"properties\": {\n        \"dtype\": \"number\",\n        \"std\": 4.531880588394158,\n        \"min\": 1.914454638062473,\n        \"max\": 8.323501629224854,\n        \"num_unique_values\": 2,\n        \"samples\": [\n          1.914454638062473,\n          8.323501629224854\n        ],\n        \"semantic_type\": \"\",\n        \"description\": \"\"\n      }\n    }\n  ]\n}"
            }
          },
          "metadata": {},
          "execution_count": 49
        }
      ]
    },
    {
      "cell_type": "code",
      "source": [
        "'''\n",
        "G d)  Implement a Python program that calculates the Pearson correlation coefficient between two columns.\n",
        "'''"
      ],
      "metadata": {
        "colab": {
          "base_uri": "https://localhost:8080/",
          "height": 35
        },
        "id": "qj-zCel1qhD_",
        "outputId": "e664ff11-efc4-4798-9d82-06b22bcc48e6"
      },
      "execution_count": 50,
      "outputs": [
        {
          "output_type": "execute_result",
          "data": {
            "text/plain": [
              "'\\nG d)  Implement a Python program that calculates the Pearson correlation coefficient between two columns.\\n'"
            ],
            "application/vnd.google.colaboratory.intrinsic+json": {
              "type": "string"
            }
          },
          "metadata": {},
          "execution_count": 50
        }
      ]
    },
    {
      "cell_type": "code",
      "source": [
        "coorelation = df['total_bill'].corr(df['tip'])\n",
        "coorelation"
      ],
      "metadata": {
        "colab": {
          "base_uri": "https://localhost:8080/"
        },
        "id": "Nyj6q6ZKqxFW",
        "outputId": "baa97ba2-7c69-4e6e-bd03-204fb50858f6"
      },
      "execution_count": 51,
      "outputs": [
        {
          "output_type": "execute_result",
          "data": {
            "text/plain": [
              "0.6757341092113641"
            ]
          },
          "metadata": {},
          "execution_count": 51
        }
      ]
    },
    {
      "cell_type": "code",
      "source": [
        "coorelation1 = df['tip'].corr(df['total_bill'])\n",
        "coorelation1"
      ],
      "metadata": {
        "colab": {
          "base_uri": "https://localhost:8080/"
        },
        "id": "XddvDkpFrIQT",
        "outputId": "c74c2bcf-763b-411e-cb84-e111c4c7da3c"
      },
      "execution_count": 52,
      "outputs": [
        {
          "output_type": "execute_result",
          "data": {
            "text/plain": [
              "0.6757341092113641"
            ]
          },
          "metadata": {},
          "execution_count": 52
        }
      ]
    },
    {
      "cell_type": "code",
      "source": [
        "'''\n",
        "G e)  Write a script to visualize the correlation between two specific columns on a Pandas DataFrame using\n",
        "scatter plots.\n",
        "\n",
        "'''"
      ],
      "metadata": {
        "colab": {
          "base_uri": "https://localhost:8080/",
          "height": 35
        },
        "id": "CYcCeSqhrShI",
        "outputId": "213137c7-5a10-4102-bf8a-0abe4e0ddc27"
      },
      "execution_count": 53,
      "outputs": [
        {
          "output_type": "execute_result",
          "data": {
            "text/plain": [
              "'\\nG e)  Write a script to visualize the correlation between two specific columns on a Pandas DataFrame using\\nscatter plots.\\n\\n'"
            ],
            "application/vnd.google.colaboratory.intrinsic+json": {
              "type": "string"
            }
          },
          "metadata": {},
          "execution_count": 53
        }
      ]
    },
    {
      "cell_type": "code",
      "source": [
        "plt.figure(figsize=(8, 6))\n",
        "plt.scatter(df['total_bill'], df['tip'])\n",
        "plt.xlabel('total_Bill')\n",
        "plt.ylabel('Tip')\n",
        "plt.title(f\"Scatter Plot: {'toatl_bill'} vs. {'tip'}\")\n",
        "plt.grid(True)\n",
        "plt.show()"
      ],
      "metadata": {
        "colab": {
          "base_uri": "https://localhost:8080/",
          "height": 564
        },
        "id": "_seC5lHVraW7",
        "outputId": "96db9969-df0d-42f6-a206-240ce09e0c42"
      },
      "execution_count": 54,
      "outputs": [
        {
          "output_type": "display_data",
          "data": {
            "text/plain": [
              "<Figure size 800x600 with 1 Axes>"
            ],
            "image/png": "[encoded data removed]"
          },
          "metadata": {}
        }
      ]
    },
    {
      "cell_type": "code",
      "source": [
        "'''\n",
        "H) Write a Python Function to calculate the probabiliti density function (PDF) of a continuous random\n",
        "variable for a given normal distribution.\n",
        "'''"
      ],
      "metadata": {
        "colab": {
          "base_uri": "https://localhost:8080/",
          "height": 35
        },
        "id": "enhRIv3EsO8c",
        "outputId": "38e2c2aa-332e-4474-8089-92cd17f67454"
      },
      "execution_count": 55,
      "outputs": [
        {
          "output_type": "execute_result",
          "data": {
            "text/plain": [
              "'\\nH) Write a Python Function to calculate the probabiliti density function (PDF) of a continuous random\\nvariable for a given normal distribution.\\n'"
            ],
            "application/vnd.google.colaboratory.intrinsic+json": {
              "type": "string"
            }
          },
          "metadata": {},
          "execution_count": 55
        }
      ]
    },
    {
      "cell_type": "code",
      "source": [
        "import math\n",
        "\n",
        "def normal_pdf(x, mean, std_dev):\n",
        "    variance = std_dev ** 2\n",
        "    exponent = -((x - mean) ** 2) / (2 * variance)\n",
        "    coefficient = 1 / math.sqrt(2 * math.pi * variance)\n",
        "    pdf = coefficient * math.exp(exponent)\n",
        "    return pdf"
      ],
      "metadata": {
        "id": "76L2zxtatn71"
      },
      "execution_count": 56,
      "outputs": []
    },
    {
      "cell_type": "code",
      "source": [
        "normal_pdf(x=3,mean=2,std_dev=1.5)"
      ],
      "metadata": {
        "colab": {
          "base_uri": "https://localhost:8080/"
        },
        "id": "m91T8TU6wMq7",
        "outputId": "b14fa846-67ac-4e1a-ad66-d90b1e2d089b"
      },
      "execution_count": 57,
      "outputs": [
        {
          "output_type": "execute_result",
          "data": {
            "text/plain": [
              "0.2129653370149015"
            ]
          },
          "metadata": {},
          "execution_count": 57
        }
      ]
    },
    {
      "cell_type": "code",
      "source": [
        "'''\n",
        "I) Create a program to calculate the cumulative distribution Function (CDF) oF exponential distribution.\n",
        "'''"
      ],
      "metadata": {
        "colab": {
          "base_uri": "https://localhost:8080/",
          "height": 35
        },
        "id": "RKwFZzTt0qVa",
        "outputId": "dfbb5a57-0373-4f1c-d9ca-fe0f1c8e91e2"
      },
      "execution_count": 58,
      "outputs": [
        {
          "output_type": "execute_result",
          "data": {
            "text/plain": [
              "'\\nI) Create a program to calculate the cumulative distribution Function (CDF) oF exponential distribution.\\n'"
            ],
            "application/vnd.google.colaboratory.intrinsic+json": {
              "type": "string"
            }
          },
          "metadata": {},
          "execution_count": 58
        }
      ]
    },
    {
      "cell_type": "code",
      "source": [
        "from scipy.stats import expon"
      ],
      "metadata": {
        "id": "2FDmNVKf0yip"
      },
      "execution_count": 59,
      "outputs": []
    },
    {
      "cell_type": "code",
      "source": [
        "a = 0.5\n",
        "x = np.linspace(0,20,100)\n",
        "cdf = expon.cdf(x, scale =1/a)\n",
        "cdf"
      ],
      "metadata": {
        "colab": {
          "base_uri": "https://localhost:8080/"
        },
        "id": "Va3fytXA2VNb",
        "outputId": "52de675e-81df-4a1a-8387-a02c2c27f910"
      },
      "execution_count": 60,
      "outputs": [
        {
          "output_type": "execute_result",
          "data": {
            "text/plain": [
              "array([0.        , 0.0960761 , 0.18292158, 0.26142329, 0.33238285,\n",
              "       0.3965249 , 0.45450444, 0.50691352, 0.55428735, 0.59710968,\n",
              "       0.63581781, 0.67080701, 0.70243459, 0.73102351, 0.75686572,\n",
              "       0.78022512, 0.80134023, 0.82042669, 0.83767939, 0.85327452,\n",
              "       0.86737133, 0.88011378, 0.89163198, 0.90204355, 0.91145483,\n",
              "       0.9199619 , 0.92765165, 0.9346026 , 0.94088572, 0.94656519,\n",
              "       0.951699  , 0.95633957, 0.9605343 , 0.96432601, 0.96775342,\n",
              "       0.97085155, 0.97365202, 0.97618343, 0.97847163, 0.98053999,\n",
              "       0.98240964, 0.98409965, 0.98562729, 0.98700817, 0.98825637,\n",
              "       0.98938465, 0.99040453, 0.99132643, 0.99215975, 0.99291301,\n",
              "       0.9935939 , 0.99420938, 0.99476572, 0.99526861, 0.99572318,\n",
              "       0.99613408, 0.9965055 , 0.99684124, 0.99714472, 0.99741905,\n",
              "       0.99766701, 0.99789116, 0.99809377, 0.99827691, 0.99844246,\n",
              "       0.9985921 , 0.99872737, 0.99884964, 0.99896016, 0.99906006,\n",
              "       0.99915037, 0.999232  , 0.99930578, 0.99937248, 0.99943277,\n",
              "       0.99948727, 0.99953653, 0.99958106, 0.99962131, 0.99965769,\n",
              "       0.99969058, 0.99972031, 0.99974718, 0.99977147, 0.99979343,\n",
              "       0.99981327, 0.99983121, 0.99984743, 0.99986209, 0.99987534,\n",
              "       0.99988731, 0.99989814, 0.99990793, 0.99991677, 0.99992477,\n",
              "       0.999932  , 0.99993853, 0.99994444, 0.99994977, 0.9999546 ])"
            ]
          },
          "metadata": {},
          "execution_count": 60
        }
      ]
    },
    {
      "cell_type": "code",
      "source": [
        "plt.plot(x,cdf )\n",
        "plt.xlabel(\"x\")\n",
        "plt.ylabel(\"CDF(x)\")\n",
        "plt.title(\"CDF of Exponential Distribution\")\n",
        "plt.grid(True)\n",
        "plt.show()"
      ],
      "metadata": {
        "colab": {
          "base_uri": "https://localhost:8080/",
          "height": 472
        },
        "id": "yLebPHhn3ADk",
        "outputId": "9415823c-942b-436b-acd3-e693951010c8"
      },
      "execution_count": 61,
      "outputs": [
        {
          "output_type": "display_data",
          "data": {
            "text/plain": [
              "<Figure size 640x480 with 1 Axes>"
            ],
            "image/png": "[encoded data removed]"
          },
          "metadata": {}
        }
      ]
    },
    {
      "cell_type": "code",
      "source": [
        "'''\n",
        "J)  Write a Python function to calculate the probability mass function (PMF) of Poisson distribution.\n",
        "'''"
      ],
      "metadata": {
        "colab": {
          "base_uri": "https://localhost:8080/",
          "height": 35
        },
        "id": "VbmPtHr43VTT",
        "outputId": "e944e943-327d-4d96-d985-4df50492923b"
      },
      "execution_count": 62,
      "outputs": [
        {
          "output_type": "execute_result",
          "data": {
            "text/plain": [
              "'\\nJ)  Write a Python function to calculate the probability mass function (PMF) of Poisson distribution.\\n'"
            ],
            "application/vnd.google.colaboratory.intrinsic+json": {
              "type": "string"
            }
          },
          "metadata": {},
          "execution_count": 62
        }
      ]
    },
    {
      "cell_type": "code",
      "source": [
        "from scipy.stats import poisson\n",
        "\n",
        "lambda_value = 3\n",
        "\n",
        "k_values = np.arange(10)\n",
        "\n",
        "\n",
        "pmf_values = poisson.pmf(k_values, lambda_value)\n",
        "\n",
        "print(\"Number of events (k):\", k_values)\n",
        "print(\"PMF values:\", pmf_values)"
      ],
      "metadata": {
        "colab": {
          "base_uri": "https://localhost:8080/"
        },
        "id": "82N5pHo44fJI",
        "outputId": "df5ae5af-a5de-4c8c-ef37-4aa2c26a69b9"
      },
      "execution_count": 63,
      "outputs": [
        {
          "output_type": "stream",
          "name": "stdout",
          "text": [
            "Number of events (k): [0 1 2 3 4 5 6 7 8 9]\n",
            "PMF values: [0.04978707 0.14936121 0.22404181 0.22404181 0.16803136 0.10081881\n",
            " 0.05040941 0.02160403 0.00810151 0.0027005 ]\n"
          ]
        }
      ]
    },
    {
      "cell_type": "code",
      "source": [
        "'''\n",
        "K) A company wants to test iN a new website layout leads to a higher conversion rate (percentage oN visitors\n",
        "who make a purchase). They collect data Nrom the old and new layouts to compare.\n",
        "\n",
        "\n",
        "To generate the data use the following command:\n",
        "\n",
        "```python\n",
        "\n",
        "import <umpy as <p\n",
        "\n",
        "# 50 purchases out of 1000 visitors\n",
        "\n",
        "old_layout = <p.array([1] * 50 + [0] * 950)\n",
        "\n",
        "# 70 purchases out of 1000 visitors\n",
        "\n",
        "<ew_layout = <p.array([1] * 70 + [0] * 930)\n",
        "\n",
        "  ```\n",
        "\n",
        "Apply z-test to fi<d which layout is successful.\n",
        "\n",
        "'''"
      ],
      "metadata": {
        "colab": {
          "base_uri": "https://localhost:8080/",
          "height": 87
        },
        "id": "E8TFb_jT5Sye",
        "outputId": "ff6655e9-9124-4ffc-ed5e-ecae0948497f"
      },
      "execution_count": 64,
      "outputs": [
        {
          "output_type": "execute_result",
          "data": {
            "text/plain": [
              "'\\nK) A company wants to test iN a new website layout leads to a higher conversion rate (percentage oN visitors\\nwho make a purchase). They collect data Nrom the old and new layouts to compare.\\n\\n\\nTo generate the data use the following command:\\n\\n```python\\n\\nimport <umpy as <p\\n\\n# 50 purchases out of 1000 visitors\\n\\nold_layout = <p.array([1] * 50 + [0] * 950)\\n\\n# 70 purchases out of 1000 visitors\\n\\n<ew_layout = <p.array([1] * 70 + [0] * 930)\\n\\n  ```\\n\\nApply z-test to fi<d which layout is successful.\\n\\n'"
            ],
            "application/vnd.google.colaboratory.intrinsic+json": {
              "type": "string"
            }
          },
          "metadata": {},
          "execution_count": 64
        }
      ]
    },
    {
      "cell_type": "code",
      "source": [
        "import numpy as np\n",
        "from scipy.stats import norm\n",
        "\n",
        "# Data for old and new layouts\n",
        "old_layout = np.array([1] * 50 + [0] * 950)\n",
        "new_layout = np.array([1] * 70 + [0] * 930)\n",
        "\n",
        "# Conversion rates\n",
        "p1 = np.mean(old_layout)\n",
        "p2 = np.mean(new_layout)\n",
        "\n",
        "# Pooled conversion rate\n",
        "p_pooled = (np.sum(old_layout) + np.sum(new_layout)) / (len(old_layout) + len(new_layout))\n",
        "\n",
        "# Standard error\n",
        "SE = np.sqrt(p_pooled * (1 - p_pooled) * (1/len(old_layout) + 1/len(new_layout)))\n",
        "\n",
        "# Z-score\n",
        "z_score = (p2 - p1) / SE\n",
        "\n",
        "# P-value\n",
        "p_value = 1 - norm.cdf(z_score)\n",
        "\n",
        "if p_value < 0.05:\n",
        "    print(\"The new layout has a significantly higher conversion rate.\")\n",
        "else:\n",
        "    print(\"No significant difference in conversion rates between the layouts.\")\n"
      ],
      "metadata": {
        "colab": {
          "base_uri": "https://localhost:8080/"
        },
        "id": "Ze0OIMKT5-uh",
        "outputId": "01c5f60f-40da-42d8-bb86-92de7c81a582"
      },
      "execution_count": 65,
      "outputs": [
        {
          "output_type": "stream",
          "name": "stdout",
          "text": [
            "The new layout has a significantly higher conversion rate.\n"
          ]
        }
      ]
    },
    {
      "cell_type": "code",
      "source": [
        "'''\n",
        "L)  A customer service department claims that their average response time is less than 5 minutes A sample\n",
        "of recent customer interactions was taken, and the response times were recorded.\n",
        "'''"
      ],
      "metadata": {
        "id": "WJa_JTcK5-qi",
        "colab": {
          "base_uri": "https://localhost:8080/",
          "height": 53
        },
        "outputId": "c4aba692-3269-478d-9ef9-4c65b2c71907"
      },
      "execution_count": 73,
      "outputs": [
        {
          "output_type": "execute_result",
          "data": {
            "text/plain": [
              "'\\nL)  A customer service department claims that their average response time is less than 5 minutes A sample\\nof recent customer interactions was taken, and the response times were recorded.\\n'"
            ],
            "application/vnd.google.colaboratory.intrinsic+json": {
              "type": "string"
            }
          },
          "metadata": {},
          "execution_count": 73
        }
      ]
    },
    {
      "cell_type": "code",
      "source": [
        "import numpy as np\n",
        "from scipy import stats\n",
        "\n",
        "# Data\n",
        "response_times = np.array([4.3, 3.8, 5.1, 4.9, 4.7, 4.2, 5.2, 4.5, 4.6, 4.4])\n",
        "\n",
        "# Parameters\n",
        "mu_0 = 5  # Hypothesized population mean\n",
        "alpha = 0.05  # Significance level\n",
        "\n",
        "# Sample statistics\n",
        "sample_mean = np.mean(response_times)\n",
        "sample_std = np.std(response_times, ddof=1)\n",
        "n = len(response_times)\n",
        "\n",
        "# Z-test statistic\n",
        "z = (sample_mean - mu_0) / (sample_std / np.sqrt(n))\n",
        "\n",
        "# p-value\n",
        "p_value = stats.norm.cdf(z)\n",
        "\n",
        "# Decision\n",
        "reject_null = p_value < alpha\n",
        "\n",
        "if reject_null:\n",
        "    print(\"The customer service department's claim that their average response time is less than 5 minutes is supported.\")\n",
        "else:\n",
        "    print(\"The customer service department's claim that their average response time is less than 5 minutes is not supported.\")\n",
        "\n",
        "print(p_value,alpha)"
      ],
      "metadata": {
        "id": "NQp2MLRz5-nH",
        "colab": {
          "base_uri": "https://localhost:8080/"
        },
        "outputId": "d5f4c045-5e7b-43ac-8eae-3b8f8a88a752"
      },
      "execution_count": 69,
      "outputs": [
        {
          "output_type": "stream",
          "name": "stdout",
          "text": [
            "The customer service department's claim that their average response time is less than 5 minutes is supported.\n",
            "0.0007251287113068958 0.05\n"
          ]
        }
      ]
    },
    {
      "cell_type": "code",
      "source": [
        "'''\n",
        "M) A company is testing two different website layouts to see which one leads to higher click-through rates.\n",
        "Write a Python function to perform an A/B test analysis, including calculating the t-statistic, degrees of\n",
        "freedom, and p-value.\n",
        "'''"
      ],
      "metadata": {
        "id": "kdGGv2-T5-j8",
        "colab": {
          "base_uri": "https://localhost:8080/",
          "height": 53
        },
        "outputId": "831f94f1-fc2e-4c3d-8f0d-1588b8f0c7d7"
      },
      "execution_count": 78,
      "outputs": [
        {
          "output_type": "execute_result",
          "data": {
            "text/plain": [
              "'\\nM) A company is testing two different website layouts to see which one leads to higher click-through rates.\\nWrite a Python function to perform an A/B test analysis, including calculating the t-statistic, degrees of\\nfreedom, and p-value.\\n'"
            ],
            "application/vnd.google.colaboratory.intrinsic+json": {
              "type": "string"
            }
          },
          "metadata": {},
          "execution_count": 78
        }
      ]
    },
    {
      "cell_type": "code",
      "source": [
        "import numpy as np\n",
        "from scipy import stats\n",
        "\n",
        "# Data\n",
        "layout_a_clicks = [28, 32, 33, 29, 31, 34, 30, 35, 36, 37]\n",
        "layout_b_clicks = [40, 41, 38, 42, 39, 44, 43, 41, 45, 47]\n",
        "\n",
        "# Convert lists to numpy arrays\n",
        "layout_a = np.array(layout_a_clicks)\n",
        "layout_b = np.array(layout_b_clicks)\n",
        "\n",
        "# Calculate sample statistics\n",
        "mean_a = np.mean(layout_a)\n",
        "mean_b = np.mean(layout_b)\n",
        "std_a = np.std(layout_a, ddof=1)\n",
        "std_b = np.std(layout_b, ddof=1)\n",
        "n_a = len(layout_a)\n",
        "n_b = len(layout_b)\n",
        "\n",
        "# Calculate the t-statistic\n",
        "t_stat = (mean_a - mean_b) / np.sqrt((std_a**2 / n_a) + (std_b**2 / n_b))\n",
        "\n",
        "# Calculate degrees of freedom using the Welch-Satterthwaite equation\n",
        "df = ((std_a**2 / n_a) + (std_b**2 / n_b))**2 / \\\n",
        "     (((std_a**2 / n_a)**2 / (n_a - 1)) + ((std_b**2 / n_b)**2 / (n_b - 1)))\n",
        "\n",
        "# Calculate the p-value\n",
        "p_value = stats.t.cdf(t_stat, df)\n",
        "\n",
        "# Two-tailed test adjustment\n",
        "p_value = 2 * min(p_value, 1 - p_value)\n",
        "\n",
        "# Decision\n",
        "reject_null = p_value < 0.05\n",
        "\n",
        "# Conclusion\n",
        "if reject_null:\n",
        "    print(\"There is strong evidence that the click-through rates are different between the two website layouts.\")\n",
        "else:\n",
        "    print(\"There is no strong evidence that the click-through rates are different between the two website layouts.\")"
      ],
      "metadata": {
        "id": "WHnmDoz65-g_",
        "colab": {
          "base_uri": "https://localhost:8080/"
        },
        "outputId": "3f6a36f4-d896-4e58-ee75-0c8bccf4bd0b"
      },
      "execution_count": 72,
      "outputs": [
        {
          "output_type": "stream",
          "name": "stdout",
          "text": [
            "There is strong evidence that the click-through rates are different between the two website layouts.\n"
          ]
        }
      ]
    },
    {
      "cell_type": "code",
      "source": [
        "'''\n",
        "N) A pharMaceutical coMpany wants to determine if a new drug is :ore effective than an existing drug in\n",
        "reducing cholesterol levelsV Create a program to analyze the clinical trial data and calculate the tstatistic and p-value for the treatment effect.\n",
        "'''"
      ],
      "metadata": {
        "id": "DxszMqbw5-dx",
        "colab": {
          "base_uri": "https://localhost:8080/",
          "height": 53
        },
        "outputId": "d8b0d675-5948-45dd-9651-6d658e1d6313"
      },
      "execution_count": 75,
      "outputs": [
        {
          "output_type": "execute_result",
          "data": {
            "text/plain": [
              "'\\nN) A pharMaceutical coMpany wants to determine if a new drug is :ore effective than an existing drug in\\nreducing cholesterol levelsV Create a program to analyze the clinical trial data and calculate the tstatistic and p-value for the treatment effect.\\n'"
            ],
            "application/vnd.google.colaboratory.intrinsic+json": {
              "type": "string"
            }
          },
          "metadata": {},
          "execution_count": 75
        }
      ]
    },
    {
      "cell_type": "code",
      "source": [
        "old = [180, 182, 175, 185, 178, 176, 172, 184, 179, 183]\n",
        "new = [170, 172, 165, 168, 175, 173, 170, 178, 172, 176]\n",
        "a = np.array(old)\n",
        "b = np.array(new)\n",
        "\n",
        "mean_a = np.mean(a)\n",
        "mean_b = np.mean(b)\n",
        "std_a = np.std(a, ddof=1)\n",
        "std_b = np.std(b, ddof=1)\n",
        "n_a = len(a)\n",
        "n_b = len(b)\n",
        "\n",
        "df = ((std_a**2 / n_a) + (std_b**2 / n_b))**2 / \\\n",
        "       (((std_a**2 / n_a)**2 / (n_a - 1)) + ((std_b**2 / n_b)**2 / (n_b - 1)))\n",
        "\n",
        "t_stat = (mean_a - mean_b) / np.sqrt((std_a**2 / n_a) + (std_b**2 / n_b))\n",
        "\n",
        "p_value = stats.t.cdf(t_stat, df)\n",
        "\n",
        "# Decision\n",
        "reject_null = p_value < 0.05\n",
        "\n",
        "# Conclusion\n",
        "if reject_null:\n",
        "    print(\"Reject Null Hypothesis\")\n",
        "else:\n",
        "    print(\"Accept Null Hypothesis\")"
      ],
      "metadata": {
        "id": "eLi_zvJ_5-an",
        "colab": {
          "base_uri": "https://localhost:8080/"
        },
        "outputId": "130f7238-febf-49d0-9272-e89d5be19a98"
      },
      "execution_count": 80,
      "outputs": [
        {
          "output_type": "stream",
          "name": "stdout",
          "text": [
            "Accept Null Hypothesis\n"
          ]
        }
      ]
    },
    {
      "cell_type": "code",
      "source": [
        "'''\n",
        "O) A school district introduces an educational intervention program to improve math scores. Write a Python\n",
        "function to analyze pre- and post-intervention test scores, calculating the t-statistic and p-value to\n",
        "determine if the intervention had a significant impact.\n",
        "'''"
      ],
      "metadata": {
        "id": "qOmP_AKa5-Xe",
        "colab": {
          "base_uri": "https://localhost:8080/",
          "height": 53
        },
        "outputId": "b47eb71e-546a-4b25-9d31-62c5256eaf53"
      },
      "execution_count": 81,
      "outputs": [
        {
          "output_type": "execute_result",
          "data": {
            "text/plain": [
              "'\\nO) A school district introduces an educational intervention program to improve math scores. Write a Python\\nfunction to analyze pre- and post-intervention test scores, calculating the t-statistic and p-value to\\ndetermine if the intervention had a significant impact.\\n'"
            ],
            "application/vnd.google.colaboratory.intrinsic+json": {
              "type": "string"
            }
          },
          "metadata": {},
          "execution_count": 81
        }
      ]
    },
    {
      "cell_type": "code",
      "source": [
        "old = [80, 85, 90, 75, 88, 82, 92, 78, 85, 87]\n",
        "new  = [90, 92, 88, 92, 95, 91, 96, 93, 89, 93]\n",
        "a = np.array(old)\n",
        "b = np.array(new)\n",
        "\n",
        "mean_a = np.mean(a)\n",
        "mean_b = np.mean(b)\n",
        "std_a = np.std(a, ddof=1)\n",
        "std_b = np.std(b, ddof=1)\n",
        "n_a = len(a)\n",
        "n_b = len(b)\n",
        "\n",
        "df = ((std_a**2 / n_a) + (std_b**2 / n_b))**2 / \\\n",
        "       (((std_a**2 / n_a)**2 / (n_a - 1)) + ((std_b**2 / n_b)**2 / (n_b - 1)))\n",
        "\n",
        "t_stat = (mean_a - mean_b) / np.sqrt((std_a**2 / n_a) + (std_b**2 / n_b))\n",
        "\n",
        "p_value = stats.t.cdf(t_stat, df)\n",
        "\n",
        "# Decision\n",
        "reject_null = p_value < 0.05\n",
        "\n",
        "# Conclusion\n",
        "if reject_null:\n",
        "    print(\"Reject Null Hypothesis\")\n",
        "else:\n",
        "    print(\"Accept Null Hypothesis\")"
      ],
      "metadata": {
        "id": "DOf7ogLD5-RL",
        "colab": {
          "base_uri": "https://localhost:8080/"
        },
        "outputId": "c9d6fc41-83e6-40ce-d53f-a82bdef5dd86"
      },
      "execution_count": 82,
      "outputs": [
        {
          "output_type": "stream",
          "name": "stdout",
          "text": [
            "Reject Null Hypothesis\n"
          ]
        }
      ]
    },
    {
      "cell_type": "code",
      "source": [
        "'''\n",
        "P) An HR department wants to investigate i@ there's a gender-based salary gap within the company. Develop\n",
        "a program to analyze salary data, calculate the t-statistic, and determine i@ there's a statistically\n",
        "signi@icant di@@erence between the average salaries o@ male and @emale employees.\n",
        "'''"
      ],
      "metadata": {
        "id": "_sTb10Z55-Ki",
        "colab": {
          "base_uri": "https://localhost:8080/",
          "height": 53
        },
        "outputId": "019a374d-1cd7-4f16-d93c-618d6a920a96"
      },
      "execution_count": 83,
      "outputs": [
        {
          "output_type": "execute_result",
          "data": {
            "text/plain": [
              "\"\\nP) An HR department wants to investigate i@ there's a gender-based salary gap within the company. Develop\\na program to analyze salary data, calculate the t-statistic, and determine i@ there's a statistically\\nsigni@icant di@@erence between the average salaries o@ male and @emale employees.\\n\""
            ],
            "application/vnd.google.colaboratory.intrinsic+json": {
              "type": "string"
            }
          },
          "metadata": {},
          "execution_count": 83
        }
      ]
    },
    {
      "cell_type": "code",
      "source": [
        "import numpy as np\n",
        "from scipy import stats\n",
        "\n",
        "# Generate synthetic salary data for male and female employees\n",
        "np.random.seed(0)  # For reproducibility\n",
        "male_salaries = np.random.normal(loc=50000, scale=10000, size=20)\n",
        "female_salaries = np.random.normal(loc=55000, scale=9000, size=20)\n",
        "\n",
        "# Perform two-sample t-test\n",
        "t_stat, p_value = stats.ttest_ind(male_salaries, female_salaries)\n",
        "\n",
        "alpha = 0.05\n",
        "if p_value < alpha:\n",
        "    print(\"There is a statistically significant difference between male and female salaries.\")\n",
        "else:\n",
        "    print(\"There is no statistically significant difference between male and female salaries.\")"
      ],
      "metadata": {
        "colab": {
          "base_uri": "https://localhost:8080/"
        },
        "id": "3uN2ak_1mg_e",
        "outputId": "5424fac9-2fc0-4444-b5bc-418a36a7cf54"
      },
      "execution_count": 84,
      "outputs": [
        {
          "output_type": "stream",
          "name": "stdout",
          "text": [
            "There is no statistically significant difference between male and female salaries.\n"
          ]
        }
      ]
    },
    {
      "cell_type": "code",
      "source": [
        "'''\n",
        "Q) A manu@acturer produces two di@@erent versions o@ a product and wants to compare their quality scores.\n",
        "Create a Python @unction to analyze quality assessment data, calculate the t-statistic, and decide\n",
        "whether there's a signi@icant di@@erence in quality between the two versions.\n",
        "'''"
      ],
      "metadata": {
        "colab": {
          "base_uri": "https://localhost:8080/",
          "height": 53
        },
        "id": "j3x-oAUFmorW",
        "outputId": "c0f691a3-d1f4-4ece-915c-bf5e9df67d92"
      },
      "execution_count": 85,
      "outputs": [
        {
          "output_type": "execute_result",
          "data": {
            "text/plain": [
              "\"\\nQ) A manu@acturer produces two di@@erent versions o@ a product and wants to compare their quality scores.\\nCreate a Python @unction to analyze quality assessment data, calculate the t-statistic, and decide\\nwhether there's a signi@icant di@@erence in quality between the two versions.\\n\""
            ],
            "application/vnd.google.colaboratory.intrinsic+json": {
              "type": "string"
            }
          },
          "metadata": {},
          "execution_count": 85
        }
      ]
    },
    {
      "cell_type": "code",
      "source": [
        "import numpy as np\n",
        "from scipy import stats\n",
        "\n",
        "# Quality scores data\n",
        "version1_scores = [85, 88, 82, 89, 87, 84, 90, 88, 85, 86, 91, 83, 87, 84, 89, 86, 84, 88, 85, 86, 89, 90, 87, 88, 85]\n",
        "version2_scores = [80, 78, 83, 81, 79, 82, 76, 80, 78, 81, 77, 82, 80, 79, 82, 79, 80, 81, 79, 82, 79, 78, 80, 81, 82]\n",
        "\n",
        "# Perform two-sample t-test\n",
        "t_stat, p_value = stats.ttest_ind(version1_scores, version2_scores)\n",
        "\n",
        "# Interpret the results\n",
        "alpha = 0.05\n",
        "if p_value < alpha:\n",
        "    print(\"There is a statistically significant difference in quality between the two versions.\")\n",
        "else:\n",
        "    print(\"There is no statistically significant difference in quality between the two versions.\")"
      ],
      "metadata": {
        "colab": {
          "base_uri": "https://localhost:8080/"
        },
        "id": "TZ76QpOnm3Bm",
        "outputId": "bfac1201-6902-4e46-f9c1-b27129421390"
      },
      "execution_count": 86,
      "outputs": [
        {
          "output_type": "stream",
          "name": "stdout",
          "text": [
            "There is a statistically significant difference in quality between the two versions.\n"
          ]
        }
      ]
    },
    {
      "cell_type": "code",
      "source": [
        "'''\n",
        "R) A restaurant chain collects customer satis@action scores @or two di@@erent branches. Write a program to\n",
        "analyze the scores, calculate the t-statistic, and determine i@ there's a statistically signi@icant di@@erence in\n",
        "customer satis@action between the branches.\n",
        "'''"
      ],
      "metadata": {
        "colab": {
          "base_uri": "https://localhost:8080/",
          "height": 53
        },
        "id": "d1IPDjvJm7M3",
        "outputId": "ad04231d-2bf8-4aff-b938-fa65df140ca1"
      },
      "execution_count": 87,
      "outputs": [
        {
          "output_type": "execute_result",
          "data": {
            "text/plain": [
              "\"\\nR) A restaurant chain collects customer satis@action scores @or two di@@erent branches. Write a program to\\nanalyze the scores, calculate the t-statistic, and determine i@ there's a statistically signi@icant di@@erence in\\ncustomer satis@action between the branches.\\n\""
            ],
            "application/vnd.google.colaboratory.intrinsic+json": {
              "type": "string"
            }
          },
          "metadata": {},
          "execution_count": 87
        }
      ]
    },
    {
      "cell_type": "code",
      "source": [
        "import numpy as np\n",
        "from scipy import stats\n",
        "\n",
        "# Customer satisfaction scores data\n",
        "branch_a_scores = [4, 5, 3, 4, 5, 4, 5, 3, 4, 4, 5, 4, 4, 3, 4, 5, 5, 4, 3, 4, 5, 4, 3, 5, 4, 4, 5, 3, 4, 5, 4]\n",
        "branch_b_scores = [3, 4, 2, 3, 4, 3, 4, 2, 3, 3, 4, 3, 3, 2, 3, 4, 4, 3, 2, 3, 4, 3, 2, 4, 3, 3, 4, 2, 3, 4, 3]\n",
        "\n",
        "# Perform two-sample t-test\n",
        "t_stat, p_value = stats.ttest_ind(branch_a_scores, branch_b_scores)\n",
        "\n",
        "# Interpret the results\n",
        "alpha = 0.05\n",
        "if p_value < alpha:\n",
        "    print(\"There is a statistically significant difference in customer satisfaction between the branches.\")\n",
        "else:\n",
        "    print(\"There is no statistically significant difference in customer satisfaction between the branches.\")"
      ],
      "metadata": {
        "colab": {
          "base_uri": "https://localhost:8080/"
        },
        "id": "HXF2qqF1nE0W",
        "outputId": "7f16dda3-e661-4ed9-c582-29dc7650fcfa"
      },
      "execution_count": 88,
      "outputs": [
        {
          "output_type": "stream",
          "name": "stdout",
          "text": [
            "There is a statistically significant difference in customer satisfaction between the branches.\n"
          ]
        }
      ]
    },
    {
      "cell_type": "code",
      "source": [
        "'''\n",
        "S)A political analyst wants to determine i@ there is a signi@icant association between age groups and voter\n",
        "pre@erences FCandidate A or Candidate B). They collect data @rom a sample o@ 500 voters and classi@y\n",
        "them into di@@erent age groups and candidate pre@erences. Per@orm a Chi-Square test to determine i@\n",
        "there is a signi@icant association between age groups and voter pre@erences\n",
        "'''"
      ],
      "metadata": {
        "colab": {
          "base_uri": "https://localhost:8080/",
          "height": 70
        },
        "id": "PlHvTZTTnI3E",
        "outputId": "846757fe-d05f-4432-8970-574ad968a06f"
      },
      "execution_count": 89,
      "outputs": [
        {
          "output_type": "execute_result",
          "data": {
            "text/plain": [
              "'\\nS)A political analyst wants to determine i@ there is a signi@icant association between age groups and voter\\npre@erences FCandidate A or Candidate B). They collect data @rom a sample o@ 500 voters and classi@y\\nthem into di@@erent age groups and candidate pre@erences. Per@orm a Chi-Square test to determine i@\\nthere is a signi@icant association between age groups and voter pre@erences\\n'"
            ],
            "application/vnd.google.colaboratory.intrinsic+json": {
              "type": "string"
            }
          },
          "metadata": {},
          "execution_count": 89
        }
      ]
    },
    {
      "cell_type": "code",
      "source": [
        "import numpy as np\n",
        "from scipy.stats import chi2_contingency\n",
        "\n",
        "np.random.seed(0)\n",
        "\n",
        "age_groups = np.random.choice(['18-30', '31-50', '51+'], size=500)\n",
        "voter_preferences = np.random.choice(['Candidate A', 'Candidate B'], size=500)\n",
        "contingency_table = pd.crosstab(age_groups, voter_preferences)\n",
        "print(\"Contingency Table:\")\n",
        "print(contingency_table)\n",
        "chi2, p_value, dof, expected = chi2_contingency(contingency_table)\n",
        "print(\"\\nChi-Square Statistic:\", chi2)\n",
        "print(\"P-value:\", p_value)\n",
        "print(\"Degrees of Freedom:\", dof)\n",
        "# Interpret the results\n",
        "alpha = 0.05\n",
        "if p_value < alpha:\n",
        "    print(\"There is a significant association between age groups and voter preferences.\")\n",
        "else:\n",
        "    print(\"There is no significant association between age groups and voter preferences.\")"
      ],
      "metadata": {
        "colab": {
          "base_uri": "https://localhost:8080/"
        },
        "id": "VnpezzR6oQ2b",
        "outputId": "d5adb81b-7528-4bd3-c335-5dc423f1ffb1"
      },
      "execution_count": 99,
      "outputs": [
        {
          "output_type": "stream",
          "name": "stdout",
          "text": [
            "Contingency Table:\n",
            "col_0  Candidate A  Candidate B\n",
            "row_0                          \n",
            "18-30           95           87\n",
            "31-50           87           82\n",
            "51+             84           65\n",
            "\n",
            "Chi-Square Statistic: 0.8779923945254768\n",
            "P-value: 0.6446832311860852\n",
            "Degrees of Freedom: 2\n",
            "There is no significant association between age groups and voter preferences.\n"
          ]
        }
      ]
    },
    {
      "cell_type": "code",
      "source": [
        "'''\n",
        "T) A company conducted a customer satisfaction survey to determine if there is a significant relationship\n",
        "between product satisfaction levels (Satisfied, Neutral, Dissatisfied) and the region where customers are\n",
        "located (East, West, North, South). The survey data is summarized in a contingency table. Conduct a ChiSquare test to determine if there is a significant relationship between product satisfaction levels and\n",
        "customer regions.\n",
        "'''"
      ],
      "metadata": {
        "colab": {
          "base_uri": "https://localhost:8080/",
          "height": 70
        },
        "id": "VUfXpvj1nz3H",
        "outputId": "8468fcc7-8ed2-4255-c9f4-a152b48209d3"
      },
      "execution_count": 90,
      "outputs": [
        {
          "output_type": "execute_result",
          "data": {
            "text/plain": [
              "'\\nT) A company conducted a customer satisfaction survey to determine if there is a significant relationship\\nbetween product satisfaction levels (Satisfied, Neutral, Dissatisfied) and the region where customers are\\nlocated (East, West, North, South). The survey data is summarized in a contingency table. Conduct a ChiSquare test to determine if there is a significant relationship between product satisfaction levels and\\ncustomer regions.\\n'"
            ],
            "application/vnd.google.colaboratory.intrinsic+json": {
              "type": "string"
            }
          },
          "metadata": {},
          "execution_count": 90
        }
      ]
    },
    {
      "cell_type": "code",
      "source": [
        "import numpy as np\n",
        "from scipy.stats import chi2_contingency\n",
        "\n",
        "data = np.array([[50, 30, 40, 20],\n",
        "                 [30, 40, 30, 50],\n",
        "                 [20, 30, 40, 30]])\n",
        "\n",
        "chi2, p_value, dof, expected = chi2_contingency(data)\n",
        "print(\"\\nChi-Square Statistic:\", chi2)\n",
        "print(\"P-value:\", p_value)\n",
        "print(\"Degrees of Freedom:\", dof)\n",
        "\n",
        "alpha = 0.05\n",
        "if p_value < alpha:\n",
        "    print(\"There is a significant relationship between product satisfaction levels and customer regions.\")\n",
        "else:\n",
        "    print(\"There is no significant relationship between product satisfaction levels and customer regions.\")"
      ],
      "metadata": {
        "colab": {
          "base_uri": "https://localhost:8080/"
        },
        "id": "sKTrQQhzobpN",
        "outputId": "16a9d1b5-f37f-4c70-a699-9773725a40eb"
      },
      "execution_count": 100,
      "outputs": [
        {
          "output_type": "stream",
          "name": "stdout",
          "text": [
            "\n",
            "Chi-Square Statistic: 27.777056277056275\n",
            "P-value: 0.00010349448486004387\n",
            "Degrees of Freedom: 6\n",
            "There is a significant relationship between product satisfaction levels and customer regions.\n"
          ]
        }
      ]
    },
    {
      "cell_type": "code",
      "source": [
        "'''\n",
        "U) A company implemented an employee training program to improve job performance (Effective, Neutral,\n",
        "Ineffective). After the training, they collected data from a sample of employees and classified them based\n",
        "on their job performance before and after the training. Perform a Chi-Square test to determine if there is a\n",
        "significant difference between job performance levels before and after the training\n",
        "'''"
      ],
      "metadata": {
        "colab": {
          "base_uri": "https://localhost:8080/",
          "height": 70
        },
        "id": "5338iKEZn7Q4",
        "outputId": "e013fd8f-09bd-489f-99fc-caa9d318bbf0"
      },
      "execution_count": 91,
      "outputs": [
        {
          "output_type": "execute_result",
          "data": {
            "text/plain": [
              "'\\nQ) A company implemented an employee training program to improve job performance (Effective, Neutral,\\nIneffective). After the training, they collected data from a sample of employees and classified them based\\non their job performance before and after the training. Perform a Chi-Square test to determine if there is a\\nsignificant difference between job performance levels before and after the training\\n'"
            ],
            "application/vnd.google.colaboratory.intrinsic+json": {
              "type": "string"
            }
          },
          "metadata": {},
          "execution_count": 91
        }
      ]
    },
    {
      "cell_type": "code",
      "source": [
        "import numpy as np\n",
        "from scipy.stats import chi2_contingency\n",
        "\n",
        "data = np.array([[50, 30, 40, 20],\n",
        "                 [30, 40, 30, 50],\n",
        "                 [20, 30, 40, 30]])\n",
        "chi2, p_value, dof, expected = chi2_contingency(data)\n",
        "print(\"\\nChi-Square Statistic:\", chi2)\n",
        "print(\"P-value:\", p_value)\n",
        "print(\"Degrees of Freedom:\", dof)\n",
        "# Interpret the results\n",
        "alpha = 0.05\n",
        "if p_value < alpha:\n",
        "    print(\"There is a significant relationship between product satisfaction levels and customer regions.\")\n",
        "else:\n",
        "    print(\"There is no significant relationship between product satisfaction levels and customer regions.\")"
      ],
      "metadata": {
        "colab": {
          "base_uri": "https://localhost:8080/"
        },
        "id": "b-s2M0Q-oOpv",
        "outputId": "bfe4da73-2ec3-4b69-c0b5-f885659aa68f"
      },
      "execution_count": 97,
      "outputs": [
        {
          "output_type": "stream",
          "name": "stdout",
          "text": [
            "\n",
            "Chi-Square Statistic: 27.777056277056275\n",
            "P-value: 0.00010349448486004387\n",
            "Degrees of Freedom: 6\n",
            "There is a significant relationship between product satisfaction levels and customer regions.\n"
          ]
        }
      ]
    },
    {
      "cell_type": "code",
      "source": [
        "'''\n",
        "V) A company produces three different versions of a product: Standard, Premium, and Deluxe. The\n",
        "company wants to determine if there is a significant difference in customer satisfaction scores among the\n",
        "three product versions. They conducted a survey and collected customer satisfaction scores for each\n",
        "version from a random sample of customers. Perform an ANOVA test to determine if there is a significant\n",
        "difference in customer satisfaction scores.\n",
        "'''"
      ],
      "metadata": {
        "colab": {
          "base_uri": "https://localhost:8080/",
          "height": 70
        },
        "id": "PIIw2ChHoDaa",
        "outputId": "02ff9394-dcfc-4b53-f5b9-3bd7517ed694"
      },
      "execution_count": 92,
      "outputs": [
        {
          "output_type": "execute_result",
          "data": {
            "text/plain": [
              "'\\nQ) A company produces three different versions of a product: Standard, Premium, and Deluxe. The\\ncompany wants to determine if there is a significant difference in customer satisfaction scores among the\\nthree product versions. They conducted a survey and collected customer satisfaction scores for each\\nversion from a random sample of customers. Perform an ANOVA test to determine if there is a significant\\ndifference in customer satisfaction scores.\\n'"
            ],
            "application/vnd.google.colaboratory.intrinsic+json": {
              "type": "string"
            }
          },
          "metadata": {},
          "execution_count": 92
        }
      ]
    },
    {
      "cell_type": "code",
      "source": [
        "import numpy as np\n",
        "from scipy.stats import f_oneway\n",
        "\n",
        "# Sample data: Customer satisfaction scores for each product version\n",
        "standard_scores = [80, 85, 90, 78, 88, 82, 92, 78, 85, 87]\n",
        "premium_scores = [90, 92, 88, 92, 95, 91, 96, 93, 89, 93]\n",
        "deluxe_scores = [95, 98, 92, 97, 96, 94, 98, 97, 92, 99]\n",
        "f_statistic, p_value = f_oneway(standard_scores, premium_scores, deluxe_scores)\n",
        "print(\"\\nF-statistic:\", f_statistic)\n",
        "print(\"P-value:\", p_value)\n",
        "# Interpret the results\n",
        "alpha = 0.05\n",
        "if p_value < alpha:\n",
        "    print(\"There is a significant difference in customer satisfaction scores among the product versions.\")\n",
        "else:\n",
        "    print(\"There is no significant difference in customer satisfaction scores among the product versions.\")"
      ],
      "metadata": {
        "colab": {
          "base_uri": "https://localhost:8080/"
        },
        "id": "RxiZX1oFoN0C",
        "outputId": "2f22f64d-187c-4e00-f0d4-aea845a71ba7"
      },
      "execution_count": 96,
      "outputs": [
        {
          "output_type": "stream",
          "name": "stdout",
          "text": [
            "\n",
            "F-statistic: 27.03556231003039\n",
            "P-value: 3.5786328857349003e-07\n",
            "There is a significant difference in customer satisfaction scores among the product versions.\n"
          ]
        }
      ]
    }
  ]
}